{
 "cells": [
  {
   "cell_type": "markdown",
   "metadata": {},
   "source": [
    "# Documentacion de numpy\n",
    "Suma,resta,multiplicacion,producto escalar de vectores"
   ]
  },
  {
   "cell_type": "code",
   "execution_count": 1,
   "metadata": {},
   "outputs": [
    {
     "name": "stdout",
     "output_type": "stream",
     "text": [
      "[2 4 7 5 8 9]\n",
      "[ 65  28  63 176  21  48]\n",
      "[ 64  26  60 172  16  42]\n",
      "[ 48  21 176  63  28  65]\n"
     ]
    }
   ],
   "source": [
    "import numpy as np\n",
    "\n",
    "array1 = np.array([2, 4, 7, 5, 8, 9])\n",
    "print(array1)\n",
    "\n",
    "array1 += np.array(2)  # Se le suma 2 a cada elemento del vector\n",
    "array1 *= 2  # Se multiplica cada elemento por 2 vector por escalar.\n",
    "\n",
    "array2 = np.array([5, 2, 3, 8, 1, 2])\n",
    "\n",
    "array1 += array2  # Se suma otro arreglo del mismo tamaño\n",
    "array1 *= array2  # Se multiplica el vector por otro de la misma dimension\n",
    "\n",
    "print(array1)\n",
    "\n",
    "# Resta de dos vectores\n",
    "array3 = np.array([1, 2, 3, 4, 5, 6])  # Nuevo vector para restar\n",
    "\n",
    "array_resultante = array1 - array3  # Resta de array1 y array3\n",
    "\n",
    "print(array_resultante)\n",
    "\n",
    "#Invertir un arreglo en numpy\n",
    "invertido=array1[::-1]\n",
    "\n",
    "print(invertido)"
   ]
  },
  {
   "cell_type": "code",
   "execution_count": 2,
   "metadata": {},
   "outputs": [
    {
     "name": "stdout",
     "output_type": "stream",
     "text": [
      "[[ 1  4  9]\n",
      " [ 8 25 24]\n",
      " [35 24 63]]\n"
     ]
    }
   ],
   "source": [
    "array3d=np.array([[1,2,3],[4,5,6],[7,8,9]]) #Puedo crear arrays de N dimensiones\n",
    "\n",
    "list=[[1,2,3],[2,5,4],[5,3,7]] \n",
    "\n",
    "listToArray=np.array(list) #Puedo transformar una lista a un numpy array\n",
    "\n",
    "listxarray=np.array(array3d*listToArray) #Si son de igual tamaño las puedo multiplicar\n",
    "\n",
    "print(listxarray)\n"
   ]
  },
  {
   "cell_type": "markdown",
   "metadata": {},
   "source": [
    "# REDIMENSIONAR TAMAÑO DE UN ARRAY"
   ]
  },
  {
   "cell_type": "code",
   "execution_count": 3,
   "metadata": {},
   "outputs": [
    {
     "name": "stdout",
     "output_type": "stream",
     "text": [
      "[[1 2 3]\n",
      " [4 5 6]\n",
      " [7 8 9]]\n"
     ]
    }
   ],
   "source": [
    "\n",
    "example=np.array([1,2,3,4,5,6,7,8,9]).reshape(3,3) #Me permite elegir la cantidad de filas y columnas\n",
    "print(example)"
   ]
  },
  {
   "cell_type": "code",
   "execution_count": 4,
   "metadata": {},
   "outputs": [
    {
     "name": "stdout",
     "output_type": "stream",
     "text": [
      "[1 2 3 4 5 6 7 8 9]\n"
     ]
    }
   ],
   "source": [
    "jk=np.arange(1,10) #creacion de un arreglo con numeros secuenciales\n",
    "print(jk)"
   ]
  },
  {
   "cell_type": "code",
   "execution_count": 5,
   "metadata": {},
   "outputs": [
    {
     "name": "stdout",
     "output_type": "stream",
     "text": [
      "[[ 1  2  3  4  5]\n",
      " [ 6  7  8  9 10]\n",
      " [11 12 13 14 15]]\n",
      "(3, 5)\n",
      "2\n",
      "15\n"
     ]
    }
   ],
   "source": [
    "matriz=np.arange(1,16).reshape(3,5)\n",
    "print(matriz)\n",
    "print(matriz.shape) #Muestra el tamaño del arreglo\n",
    "\n",
    "print(matriz.ndim) #Muestra la dimension\n",
    "\n",
    "print(matriz.size) #Numero de elementos de la matriz\n"
   ]
  },
  {
   "cell_type": "markdown",
   "metadata": {},
   "source": [
    "# Creacion de una matriz de 0s y formas de  insertar en la matriz"
   ]
  },
  {
   "cell_type": "code",
   "execution_count": 6,
   "metadata": {},
   "outputs": [
    {
     "name": "stdout",
     "output_type": "stream",
     "text": [
      "[[1. 0. 0.]\n",
      " [0. 1. 0.]\n",
      " [0. 0. 0.]]\n"
     ]
    }
   ],
   "source": [
    "#Recordando que para filas y columnas aqui se empieza desde el 0\n",
    "\n",
    "zero = np.zeros((3,3))\n",
    "np.put(zero, np.ravel_multi_index((1,1), zero.shape), 1)\n",
    "\"\"\"\n",
    "Primer parametro la matriz, segundo necesita convertir a 2d la posicion\n",
    "\n",
    "y el tercer parametro es la coordenada junto al tamaño de la matriz , por ultimo el elemento\n",
    "\n",
    "\"\"\"\n",
    "np.put(zero,np.ravel_multi_index((0,0),np.shape(zero)),1)\n",
    "print(zero)\n"
   ]
  },
  {
   "cell_type": "code",
   "execution_count": 7,
   "metadata": {},
   "outputs": [
    {
     "name": "stdout",
     "output_type": "stream",
     "text": [
      "[[0. 0. 0.]\n",
      " [0. 0. 0.]\n",
      " [0. 1. 0.]]\n",
      "8 está en el array.\n"
     ]
    }
   ],
   "source": [
    "#Hace lo mismo solo que copia la matriz en una nueva para trabajar ahi\n",
    "zero = np.zeros((3,3))\n",
    "\n",
    "nueva_matriz = np.copy(zero)\n",
    "\n",
    "np.put(nueva_matriz, np.ravel_multi_index((2,1), nueva_matriz.shape), 1)\n",
    "\n",
    "print(nueva_matriz)\n",
    "\n",
    "\n",
    "#buscar un elemento en un np.array, tambien sirve para las listas\n",
    "mi_array = np.array([1, 5, 8, 12, 8, 3])\n",
    "valor_buscar = 8\n",
    "\n",
    "# Verificar si el valor está en el array\n",
    "if valor_buscar in mi_array:\n",
    "    print(f'{valor_buscar} está en el array.')\n",
    "else:\n",
    "    print(f'{valor_buscar} no está en el array.')\n",
    "\n"
   ]
  },
  {
   "cell_type": "code",
   "execution_count": 8,
   "metadata": {},
   "outputs": [
    {
     "name": "stdout",
     "output_type": "stream",
     "text": [
      "[2.         2.44444444 2.88888889 3.33333333 3.77777778 4.22222222\n",
      " 4.66666667 5.11111111 5.55555556 6.        ]\n"
     ]
    }
   ],
   "source": [
    "#Creacion de matriz np.linspace\n",
    "\"\"\"\n",
    "1)Dado un valor inicial el intervalo inicial y un valor final\n",
    "2)Añadiendole la cantidad de elementos que queremos ver,\n",
    "\n",
    "\"\"\"\n",
    "linspace=np.linspace(2,6,10)\n",
    "print(linspace)"
   ]
  },
  {
   "cell_type": "code",
   "execution_count": 9,
   "metadata": {},
   "outputs": [
    {
     "data": {
      "image/png": "[encoded data removed]",
      "text/plain": [
       "<Figure size 640x480 with 1 Axes>"
      ]
     },
     "metadata": {},
     "output_type": "display_data"
    }
   ],
   "source": [
    "import numpy as np\n",
    "import matplotlib.pyplot as plt\n",
    "\n",
    "arr = np.linspace(-2, 2, 20)  # Generamos un arreglo de 20 valores entre -2 y 2\n",
    "senos = np.sin(arr)  # Calculamos el seno de cada elemento en arr\n",
    "plt.plot(arr, senos)  # Graficamos los valores de arr en el eje x y los senos en el eje y\n",
    "plt.show()\n"
   ]
  },
  {
   "cell_type": "code",
   "execution_count": 10,
   "metadata": {},
   "outputs": [
    {
     "name": "stdout",
     "output_type": "stream",
     "text": [
      "[[[ 1  2  3]\n",
      "  [ 4  5  6]\n",
      "  [ 7  8  9]]\n",
      "\n",
      " [[10 11 12]\n",
      "  [13 14 15]\n",
      "  [16 17 18]]\n",
      "\n",
      " [[19 20 21]\n",
      "  [22 23 24]\n",
      "  [25 26 27]]]\n"
     ]
    }
   ],
   "source": [
    "#Matriz en 3D, siendo su visualizacion una detras de la otra (teorico)\n",
    "matriz3D=np.arange(1,28).reshape(3,3,3)\n",
    "print(matriz3D)\n",
    "#3 MATRICES DE 3 FILAS Y 3 COLUMNAS CADA UNA"
   ]
  },
  {
   "cell_type": "code",
   "execution_count": 11,
   "metadata": {},
   "outputs": [
    {
     "name": "stdout",
     "output_type": "stream",
     "text": [
      "[[1 2]\n",
      " [3 4]]\n",
      "4\n"
     ]
    }
   ],
   "source": [
    "#Ver un elemento de una matriz\n",
    "matriz2d=np.arange(1,5).reshape(2,2)\n",
    "\n",
    "print(matriz2d)\n",
    "\n",
    "print(matriz2d[1,1])"
   ]
  },
  {
   "cell_type": "code",
   "execution_count": 12,
   "metadata": {},
   "outputs": [
    {
     "name": "stdout",
     "output_type": "stream",
     "text": [
      "[ 1  2  3  4  7  7  8 19 20 56]\n",
      "[56 20 19  8  7  7  4  3  2  1]\n"
     ]
    }
   ],
   "source": [
    "import numpy as np\n",
    "\n",
    "m = np.array([4, 3, 7, 2, 1, 56, 7, 8, 20, 19])\n",
    "\n",
    "# Ordenar de menor a mayor\n",
    "menor_a_mayor = np.sort(m)\n",
    "print(menor_a_mayor)\n",
    "\n",
    "# Ordenar de mayor a menor\n",
    "m.sort()  # Ordena el arreglo en su lugar de menor a mayor\n",
    "mayor_a_menor = m[::-1]  # Invierte el arreglo para obtener de mayor a menor\n",
    "print(mayor_a_menor)\n"
   ]
  },
  {
   "cell_type": "code",
   "execution_count": 13,
   "metadata": {},
   "outputs": [
    {
     "name": "stdout",
     "output_type": "stream",
     "text": [
      "[     1      8     27     64    343    343    512   6859   8000 175616]\n"
     ]
    }
   ],
   "source": [
    "cubos=np.power(m,3)\n",
    "#Halla la elevacion de todos los elementos de un array \n",
    "print(cubos)"
   ]
  },
  {
   "cell_type": "code",
   "execution_count": 14,
   "metadata": {},
   "outputs": [
    {
     "name": "stdout",
     "output_type": "stream",
     "text": [
      "[ True  True  True  True False False False  True]\n",
      "Máximo: 8\n",
      "Mínimo: 2\n",
      "[3.         3.14285714 3.28571429 3.42857143 3.57142857 3.71428571\n",
      " 3.85714286 4.        ]\n",
      "[2.         2.         2.         3.         6.         8.\n",
      " 7.         2.         3.         3.14285714 3.28571429 3.42857143\n",
      " 3.57142857 3.71428571 3.85714286 4.        ]\n"
     ]
    }
   ],
   "source": [
    "import numpy as np\n",
    "\n",
    "reales = np.array([2, 2, 2, 3, 6, 8, 7, 2])\n",
    "\n",
    "# Condiciones en el array\n",
    "condicion = np.array(reales <= 4)\n",
    "print(condicion)\n",
    "\n",
    "# Valor máximo y mínimo\n",
    "maximo = reales.max()\n",
    "minimo = reales.min()\n",
    "print(\"Máximo:\", maximo)\n",
    "print(\"Mínimo:\", minimo)\n",
    "\n",
    "# Generar un array de tamaño igual a 'reales' con valores entre 3 y 4\n",
    "falsos = np.linspace(3, 4, reales.size)\n",
    "print(falsos)\n",
    "\n",
    "#Shape:Tamaño en filas y columnas Size:cantidad\n",
    "\n",
    "#Concatenar 2 arreglos\n",
    "resultado = np.concatenate((reales, falsos))\n",
    "print(resultado)"
   ]
  },
  {
   "cell_type": "code",
   "execution_count": 15,
   "metadata": {},
   "outputs": [
    {
     "name": "stdout",
     "output_type": "stream",
     "text": [
      "[[[ 1  2  3]\n",
      "  [ 4  5  6]\n",
      "  [ 7  8  9]]\n",
      "\n",
      " [[10 11 12]\n",
      "  [13 14 15]\n",
      "  [16 17 18]]\n",
      "\n",
      " [[19 20 21]\n",
      "  [22 23 24]\n",
      "  [25 26 27]]]\n",
      "24\n"
     ]
    }
   ],
   "source": [
    "\n",
    "#Ver un elemento en una matriz de 4 dimensiones\n",
    "matrixgod=np.arange(1,28).reshape(3,3,3)\n",
    "print(matrixgod)\n",
    "print(matrixgod[2][1][2])"
   ]
  },
  {
   "cell_type": "markdown",
   "metadata": {},
   "source": [
    "# Operaciones entre Matrices"
   ]
  },
  {
   "cell_type": "code",
   "execution_count": 16,
   "metadata": {},
   "outputs": [
    {
     "name": "stdout",
     "output_type": "stream",
     "text": [
      "[[7 4]\n",
      " [7 3]]\n",
      "[[ 3  0]\n",
      " [ 1 -1]]\n",
      "[[10  4]\n",
      " [12  2]]\n",
      "[[2.5        1.        ]\n",
      " [1.33333333 0.5       ]]\n",
      "[[18  6]\n",
      " [23  8]]\n"
     ]
    }
   ],
   "source": [
    "import numpy as np\n",
    "\n",
    "m1 = np.array([[2, 2], [3, 2]])\n",
    "m2 = np.array([[5, 2], [4, 1]])\n",
    "\n",
    "# Suma de matrices\n",
    "print(np.add(m1, m2))\n",
    "\n",
    "#Resta\n",
    "print(np.subtract(m2,m1))\n",
    "\n",
    "#Multiplicar ELEMENTO POR ELEMENTO\n",
    "print(np.multiply(m1,m2))\n",
    "\n",
    "#Dividir\n",
    "print(np.divide(m2,m1))\n",
    "\n",
    "#Multiplica fila por columna, si es vectores multiplica elemento por elemento y se suma, dando un escalar\n",
    "print(np.dot(m1,m2))\n"
   ]
  },
  {
   "cell_type": "markdown",
   "metadata": {},
   "source": [
    "# Numeros aleatorios"
   ]
  },
  {
   "cell_type": "code",
   "execution_count": 17,
   "metadata": {},
   "outputs": [
    {
     "name": "stdout",
     "output_type": "stream",
     "text": [
      "[6 1 9 2]\n",
      "[[9 1]\n",
      " [9 7]]\n",
      "[[0.4511967  0.35354492 0.00399852]\n",
      " [0.84678131 0.90804222 0.18962349]\n",
      " [0.81717857 0.0715743  0.72432585]]\n",
      "[[2 2]\n",
      " [8 6]]\n"
     ]
    }
   ],
   "source": [
    "import numpy as np\n",
    "\n",
    "random_entero=np.random.randint(10, size=(4)) #Para conseguir un numero random hasta el limite de 10\n",
    "#Size me dice cuantos numeros quiero de ese tipo\n",
    "print(random_entero)\n",
    "\n",
    "random_entero=np.random.randint(10, size=(2,2)) #Ahora podemos que sea como una matriz dandole un tamaño real\n",
    "print(random_entero)\n",
    "\n",
    "random_decimal=np.random.rand(3,3) #Aqui no se usa size, solo se pone la coma y ya\n",
    "print(random_decimal)\n",
    "\n",
    "random_posibilidad=np.random.choice([2,4,6,8,20,12], size=(2,2))  #Dado una serie de numeros se tomara uno de los de aca\n",
    "print(random_posibilidad) \n"
   ]
  },
  {
   "cell_type": "markdown",
   "metadata": {},
   "source": [
    "# Orden logico con probabilidad aleatoria"
   ]
  },
  {
   "cell_type": "code",
   "execution_count": 18,
   "metadata": {},
   "outputs": [
    {
     "name": "stdout",
     "output_type": "stream",
     "text": [
      "Suma de las probabilidades normalizadas: 0.9999999999999999\n",
      "[ 8 10  8  8  8  4 10  4  8 10  2  4 10  8  8 10 10 10 10  8  8 10 10 10\n",
      "  2 10 10 10 10  8  4  8  4  8  2 10 10  8 10  2 10  8  2  2  8 10 10 10\n",
      " 10 10]\n"
     ]
    }
   ],
   "source": [
    "#Generar una matriz que contenga 50 valores, y cada valor debe de ser 2,4,8,10\n",
    "#Siguiendo la regla de la probabilidad de Casos favorables/Casos totales\n",
    "#La suma de la probabilidad debe de ser 1\n",
    "\n",
    "numeros_elegibles = np.array([4, 2, 8, 10])\n",
    "tasa_probabilidad = numeros_elegibles / 50\n",
    "# Normalizar las probabilidades para que sumen 1\n",
    "#Calcula la suma total de todas las probabilidades.\n",
    "#Divide cada probabilidad por la suma total.\n",
    "tasa_probabilidad /= np.sum(tasa_probabilidad)\n",
    "\n",
    "suma_probabilidades = np.sum(tasa_probabilidad)\n",
    "\n",
    "print(\"Suma de las probabilidades normalizadas:\", suma_probabilidades)\n",
    "\n",
    "# Generar una muestra aleatoria basada en las probabilidades normalizadas\n",
    "elegibles = np.random.choice(numeros_elegibles, p=tasa_probabilidad, size=50)\n",
    "print(elegibles)\n"
   ]
  },
  {
   "cell_type": "markdown",
   "metadata": {},
   "source": [
    "# Control y manejo de los ejes"
   ]
  },
  {
   "cell_type": "markdown",
   "metadata": {},
   "source": [
    "![texto alternativo](Media/Orientacion%20de%20ejes.png)"
   ]
  },
  {
   "cell_type": "markdown",
   "metadata": {},
   "source": [
    "Si es en 1D el axis siempre sera 0 axis=0"
   ]
  },
  {
   "cell_type": "code",
   "execution_count": 19,
   "metadata": {},
   "outputs": [
    {
     "name": "stdout",
     "output_type": "stream",
     "text": [
      "[[1 2 3]\n",
      " [4 5 6]\n",
      " [7 8 9]]\n",
      "[[10 11 12]\n",
      " [13 14 15]\n",
      " [16 17 18]]\n",
      "[12 15 18]\n",
      "[ 6 15 24]\n",
      "-------------------\n",
      "[[ 1  2  3 10 11 12]\n",
      " [ 4  5  6 13 14 15]\n",
      " [ 7  8  9 16 17 18]]\n"
     ]
    }
   ],
   "source": [
    "import numpy as np\n",
    "\n",
    "matriz_ejes=np.array([[1,2,3],[4,5,6],[7,8,9]])\n",
    "matriz_ejes2=np.arange(10,19).reshape(3,3)\n",
    "print(matriz_ejes)\n",
    "print(matriz_ejes2)\n",
    "#Suma numerica con eje 0\n",
    "print(np.sum(matriz_ejes,axis=0)) #Suma de elementos de cada columna entre si\n",
    "\n",
    "print(np.sum(matriz_ejes,axis=1)) #Suma de elementos de cada fila entre si\n",
    "\n",
    "#Concatenar atravez de su eje\n",
    "print(\"-------------------\")\n",
    "print(np.concatenate([matriz_ejes,matriz_ejes2], axis=1)) #se unen en funcion de sus filas \n",
    "\n"
   ]
  },
  {
   "cell_type": "code",
   "execution_count": 20,
   "metadata": {},
   "outputs": [
    {
     "name": "stdout",
     "output_type": "stream",
     "text": [
      "[[1 2 3]\n",
      " [4 5 6]\n",
      " [7 8 9]]\n",
      "--------\n",
      "[[10 11 12]\n",
      " [13 14 15]\n",
      " [16 17 18]]\n",
      "11\n"
     ]
    }
   ],
   "source": [
    "print(matriz_ejes)\n",
    "print(\"--------\")\n",
    "print(matriz_ejes2)\n",
    "suma_elementos = matriz_ejes[0, 0] + matriz_ejes2[0, 0]\n",
    "print(suma_elementos)  # Imprimirá la suma de los elementos\n"
   ]
  },
  {
   "cell_type": "markdown",
   "metadata": {},
   "source": [
    "# FUNCIONES ESTADISTICAS EN NUMPY"
   ]
  },
  {
   "cell_type": "code",
   "execution_count": 21,
   "metadata": {},
   "outputs": [
    {
     "name": "stdout",
     "output_type": "stream",
     "text": [
      "[[1 2 3]\n",
      " [4 5 6]\n",
      " [7 8 9]]\n",
      "[3 6 9]\n",
      "[2 2 2]\n"
     ]
    }
   ],
   "source": [
    "print(matriz_ejes)\n",
    "\n",
    "print(np.amax(matriz_ejes,1)) #Me dice el valor maximo de una columna o fila usando 0 o 1 segun sea el caso\n",
    "#Retorna una lista de mayor en en cada fila o columna correspondiente\n",
    "\n",
    "#Rango de una matriz en una fila o columna\n",
    "\n",
    "#Sabiendo que el rango es Valor max - Valor minimo\n",
    "print(np.ptp(matriz_ejes,axis=1)) #Retorna una lista de rango en cada fila"
   ]
  },
  {
   "cell_type": "markdown",
   "metadata": {},
   "source": [
    "# Percentil\n",
    "![percentil](Media/Percentil%20estadistica.png)"
   ]
  },
  {
   "cell_type": "markdown",
   "metadata": {},
   "source": [
    "\n",
    "En estadística, un percentil es un valor que indica la posición relativa de un dato dentro de un conjunto, expresado como un porcentaje del total de datos. Por ejemplo, el percentil 50 (también conocido como la mediana) separa el conjunto de datos en dos partes iguales, donde el 50% de los datos son menores que ese valor y el 50% son mayores. Los percentiles ayudan a entender la distribución y la posición de un dato en relación con otros dentro de un conjunto de datos.\n",
    "\n",
    "SOLO SIRVE CUANDO LA MATRIZ TIENE ELEMENTOS IMPARES, LA FORMULA CAMBIA"
   ]
  },
  {
   "cell_type": "code",
   "execution_count": 22,
   "metadata": {},
   "outputs": [
    {
     "name": "stdout",
     "output_type": "stream",
     "text": [
      "[[1 2 3]\n",
      " [4 5 6]\n",
      " [7 8 9]]\n",
      "5.0\n",
      "[4. 5. 6.]\n",
      "[2. 5. 8.]\n"
     ]
    }
   ],
   "source": [
    "print(matriz_ejes)\n",
    "\n",
    "#Q suele ser casi siempre 50\n",
    "\n",
    "print(np.percentile(matriz_ejes,50))\n",
    "\n",
    "#Ahora usando axis\n",
    "print(np.percentile(matriz_ejes,50, axis=0))\n",
    "\n",
    "print(np.percentile(matriz_ejes,50, axis=1))"
   ]
  },
  {
   "cell_type": "code",
   "execution_count": 23,
   "metadata": {},
   "outputs": [
    {
     "name": "stdout",
     "output_type": "stream",
     "text": [
      "[[1 2 3]\n",
      " [4 5 6]\n",
      " [7 8 9]]\n",
      "Mediana\n",
      "5.0\n",
      "[4. 5. 6.]\n"
     ]
    }
   ],
   "source": [
    "#Hallar la mediana \n",
    "#Formula mediana=(n+1)/2\n",
    "print(matriz_ejes)\n",
    "\n",
    "print(\"Mediana\")\n",
    "\n",
    "print(np.median(matriz_ejes))\n",
    "\n",
    "#Con los ejes\n",
    "print(np.median(matriz_ejes, axis=0)) #Retorna el axis 0 que sea su mediana\n"
   ]
  },
  {
   "cell_type": "markdown",
   "metadata": {},
   "source": [
    "Media arimetica:La **media aritmética** es un tipo de media que otorga la misma ponderación a todos los valores. Es una medida de tendencia central que busca aportar información sobre el centro de un conjunto de datos ¹. La media aritmética se calcula sumando todos los valores y dividiendo el resultado entre la cantidad de observaciones ¹. La fórmula de la media aritmética es la siguiente: $$\\bar{x} = \\frac{\\sum_{i=1}^{N} x_i}{N}$$ donde $\\bar{x}$ es la media aritmética, $x_i$ es el valor de la i-ésima observación y $N$ es el número total de observaciones ¹. \n",
    "\n",
    "\n"
   ]
  },
  {
   "cell_type": "code",
   "execution_count": 24,
   "metadata": {},
   "outputs": [
    {
     "name": "stdout",
     "output_type": "stream",
     "text": [
      "5.0\n",
      "[4. 5. 6.]\n"
     ]
    }
   ],
   "source": [
    "print(np.mean(matriz_ejes))\n",
    "\n",
    "print(np.mean(matriz_ejes, axis=0)) #Se suman los elementos del axis=0 y se divide por la cantidad, retorna un numero que se añade a la lista\n"
   ]
  },
  {
   "cell_type": "markdown",
   "metadata": {},
   "source": [
    "Promedio de un arreglo de numpy"
   ]
  },
  {
   "cell_type": "code",
   "execution_count": 25,
   "metadata": {},
   "outputs": [
    {
     "name": "stdout",
     "output_type": "stream",
     "text": [
      "7.285714285714286\n"
     ]
    }
   ],
   "source": [
    "promedio=np.array([[1,20,15,4,3,2,6]])\n",
    "\n",
    "print(np.average(promedio))"
   ]
  },
  {
   "cell_type": "markdown",
   "metadata": {},
   "source": [
    "# Desviacion estandar\n",
    "La desviación estándar es una medida de dispersión que indica cuánto se alejan los valores de un conjunto de datos de su media. En términos simples, muestra cuánto varían los valores de un conjunto con respecto a la media de ese conjunto.\n",
    "\n",
    "Para calcular la desviación estándar, primero se calcula la media de los datos. Luego, para cada valor en el conjunto de datos, se encuentra la diferencia entre ese valor y la media, se eleva al cuadrado esta diferencia y se promedia el resultado de estas diferencias al cuadrado. Finalmente, se toma la raíz cuadrada de esa media.\n",
    "\n",
    "\n",
    "![Texto alternativo](Media/Desviacion.png)\n"
   ]
  },
  {
   "cell_type": "code",
   "execution_count": 26,
   "metadata": {},
   "outputs": [
    {
     "name": "stdout",
     "output_type": "stream",
     "text": [
      "Arreglo de datos\n",
      "[1 2 3 4 5 6 7 8 9]\n",
      "Desviacion estandar\n",
      "2.581988897471611\n"
     ]
    }
   ],
   "source": [
    "\n",
    "print(\"Arreglo de datos\")\n",
    "\n",
    "datos=np.arange(1,10)\n",
    "\n",
    "print(datos)\n",
    "\n",
    "print(\"Desviacion estandar\")\n",
    "\n",
    "print(np.std(datos))\n",
    "\n",
    "#Esta medida nos indica cuánto se alejan estos números de su media, mostrando la dispersión de los datos respecto a la media."
   ]
  },
  {
   "cell_type": "markdown",
   "metadata": {},
   "source": [
    "# Algebra Lineal con numpy "
   ]
  },
  {
   "cell_type": "code",
   "execution_count": 27,
   "metadata": {},
   "outputs": [
    {
     "name": "stdout",
     "output_type": "stream",
     "text": [
      "[[1 2 3]]\n"
     ]
    }
   ],
   "source": [
    "matriz1D=np.array([[1],[2],[3]])\n",
    "\n",
    "#Matriz transpuesta: Aquella que queda su sentido opuesto \n",
    "print(np.transpose(matriz1D))\n"
   ]
  },
  {
   "cell_type": "markdown",
   "metadata": {},
   "source": [
    "Sistemas de ecuaciones lineales con numpy "
   ]
  },
  {
   "cell_type": "code",
   "execution_count": 28,
   "metadata": {},
   "outputs": [
    {
     "name": "stdout",
     "output_type": "stream",
     "text": [
      "[[ 2  1 -2]\n",
      " [ 3  0  1]\n",
      " [ 1  1 -1]]\n",
      "------\n",
      "[[-3]\n",
      " [ 5]\n",
      " [-2]]\n",
      "--------\n",
      "[[ 1.]\n",
      " [-1.]\n",
      " [ 2.]]\n",
      "True\n"
     ]
    }
   ],
   "source": [
    "A=np.array([[2,1,-2],[3,0,1],[1,1,-1]])\n",
    "\n",
    "B=np.array([[-3],[5],[-2]])\n",
    "\n",
    "print(A)\n",
    "\n",
    "print(\"------\")\n",
    "\n",
    "print(B)\n",
    "\n",
    "#Resolvemos el sistema\n",
    "print(\"--------\")\n",
    "\n",
    "operation=np.linalg.solve(A,B)\n",
    "\n",
    "print(operation)\n",
    "\n",
    "#Comprobamos si esta bueno\n",
    "print(np.allclose(np.dot(A,operation),B)) #Primer parametro la matriz A , el resultado y por ultimo B la matriz\n",
    "#Retorna un boolean"
   ]
  },
  {
   "cell_type": "markdown",
   "metadata": {},
   "source": [
    "Matriz inversa"
   ]
  },
  {
   "cell_type": "code",
   "execution_count": 29,
   "metadata": {},
   "outputs": [
    {
     "name": "stdout",
     "output_type": "stream",
     "text": [
      "[[2 3]\n",
      " [1 2]]\n",
      "--------\n",
      "[[ 2. -3.]\n",
      " [-1.  2.]]\n"
     ]
    }
   ],
   "source": [
    "import numpy as np\n",
    "\n",
    "inversa = np.array([[2, 3], [1, 2]])\n",
    "print(inversa)\n",
    "print(\"--------\")\n",
    "\n",
    "print(np.linalg.inv(inversa))\n"
   ]
  },
  {
   "cell_type": "markdown",
   "metadata": {},
   "source": [
    "Determinante de una matriz"
   ]
  },
  {
   "cell_type": "code",
   "execution_count": 30,
   "metadata": {},
   "outputs": [
    {
     "name": "stdout",
     "output_type": "stream",
     "text": [
      "[[1 2 3]\n",
      " [0 1 4]\n",
      " [0 0 1]]\n",
      "------\n",
      "1.0\n"
     ]
    }
   ],
   "source": [
    "determinante=np.array([[1,2,3],[0,1,4],[0,0,1]])\n",
    "\n",
    "print(determinante)\n",
    "\n",
    "print(\"------\")\n",
    "\n",
    "print(np.linalg.det(determinante))"
   ]
  }
 ],
 "metadata": {
  "kernelspec": {
   "display_name": "Python 3",
   "language": "python",
   "name": "python3"
  },
  "language_info": {
   "codemirror_mode": {
    "name": "ipython",
    "version": 3
   },
   "file_extension": ".py",
   "mimetype": "text/x-python",
   "name": "python",
   "nbconvert_exporter": "python",
   "pygments_lexer": "ipython3",
   "version": "3.11.4"
  }
 },
 "nbformat": 4,
 "nbformat_minor": 2
}
