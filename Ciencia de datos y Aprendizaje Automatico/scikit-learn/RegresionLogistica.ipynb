{
 "cells": [
  {
   "cell_type": "markdown",
   "metadata": {},
   "source": [
    "# Regresion Logistica"
   ]
  },
  {
   "cell_type": "markdown",
   "metadata": {},
   "source": [
    "La regresión logística es un tipo de análisis estadístico que se utiliza a menudo para el modelado y la analítica predictiva, y se extiende a las aplicaciones de machine learning. En este enfoque analítico, la variable dependiente es finita o categórica. Se utiliza en software estadístico para comprender la relación entre la variable dependiente y una o más variables independientes mediante la estimación de probabilidades con una ecuación de regresión logística"
   ]
  },
  {
   "cell_type": "markdown",
   "metadata": {},
   "source": [
    "*Ejemplos en donde se usaria una regresion Logistica*\n",
    "\n",
    "- Investigación médica: Los investigadores médicos quieren saber cómo el ejercicio y el peso afectan la probabilidad de sufrir un ataque cardíaco1. La variable de respuesta en el modelo será un ataque cardíaco y tiene dos resultados potenciales: Ocurre un infarto o No ocurre un ataque cardíaco.\n",
    "\n",
    "- Admisión universitaria: Los investigadores quieren saber cómo el GPA, la puntuación ACT y la cantidad de clases AP tomadas afectan la probabilidad de ser aceptado en una universidad en particular1. La variable de respuesta en el modelo será «aceptación» y tiene dos resultados potenciales: Un estudiante es aceptado o Un estudiante no es aceptado.\n",
    "\n",
    "- Detección de spam: Una empresa desea saber si el número de palabras y el país de origen afectan la probabilidad de que un correo electrónico sea spam1. La variable de respuesta en el modelo será «spam» y tiene dos resultados potenciales: El correo electrónico es spam o El correo electrónico no es spam.\n",
    "\n",
    "- Predicción de enfermedades: La regresión logística se puede utilizar para predecir la probabilidad de que un paciente desarrolle diabetes, en función de factores como la edad, el peso, la presión arterial y los antecedentes familiares."
   ]
  },
  {
   "cell_type": "markdown",
   "metadata": {},
   "source": [
    "En la ciencia de datos, la regresión logística es una herramienta fundamental para resolver problemas de clasificación. \n",
    "\n",
    "- Modelos de clasificación binaria: La regresión logística se utiliza para predecir la probabilidad de que ocurra un evento, como la probabilidad de que un correo electrónico sea spam o no.\n",
    "  \n",
    "- Machine Learning: La regresión logística se utiliza en el aprendizaje automático, especialmente cuando la tarea que la máquina está aprendiendo se basa en dos valores, o en una clasificación binaria3. Por ejemplo, tu computadora podría usar este tipo de análisis para tomar decisiones sobre la promoción de una oferta y tomar acciones por sí misma.\n",
    "  \n",
    "- Análisis de comportamiento del consumidor: Se puede aplicar la regresión logística para predecir el comportamiento de un consumidor ante la compra de un determinado artículo.\n",
    "\n",
    "- Creación de modelos predictivos: Algunos tipos de modelos predictivos que utilizan análisis logístico incluyen el modelo lineal generalizado, elección discreta, logit multinomial, logit mixto, probit, probit multinomial, logit ordenado."
   ]
  },
  {
   "cell_type": "markdown",
   "metadata": {},
   "source": [
    "# Variables y partes de la regresion Logistica"
   ]
  },
  {
   "cell_type": "markdown",
   "metadata": {},
   "source": [
    "La regresión logística se compone de varias partes y variables que se deben tener en cuenta:\n",
    "\n",
    "1. Variable dependiente: Es la variable que se quiere predecir o explicar. En la regresión logística, la variable dependiente es categórica, es decir, tiene un número limitado de categorías o grupos2. Por ejemplo, puede ser binaria (sí/no, éxito/fracaso, etc.) o multinomial (tres o más categorías sin orden)\n",
    "\n",
    "2. Variables independientes o predictoras: Son las variables que se utilizan para predecir la variable dependiente1. Pueden ser de cualquier tipo: continuas (como la edad o el ingreso) o categóricas (como el género o el estado civil)\n",
    "la variable independiente afecta la probabilidad de que ocurra el evento de interés.\n",
    "\n",
    "3. Función logit: La regresión logística utiliza la función logit para transformar las probabilidades en un logaritmo de probabilidades, lo que permite modelar la relación entre las variables independientes y la variable dependiente1.\n",
    "\n",
    "4. Odds ratio: Es una medida de asociación que compara las odds de un evento dado en presencia de una variable independiente con las odds del mismo evento en ausencia de esa variable1."
   ]
  },
  {
   "cell_type": "markdown",
   "metadata": {},
   "source": [
    "# Formula y explicacion"
   ]
  },
  {
   "cell_type": "markdown",
   "metadata": {},
   "source": [
    "\n",
    "$$p(x) = \\frac{1}{1 + e^{-(a_1x_1 + a_2x_2 + \\dots + a_nx_n+b)}}$$\n",
    "\n",
    "\n",
    "$ - p \\text{ es la probabilidad de que ocurra el evento de interés.}$\n",
    "\n",
    "$ - e \\text{ es la base del logaritmo natural.}$\n",
    "\n",
    "$ - a_1​,a_2​,..., an​ \\text{ son los coeficientes de las variables independientes.}$\n",
    "\n",
    "$ - x_1​,x_2​,...,xn​ \\text{ son las variables independientes.}$\n",
    "\n",
    "$ - b \\text{ es el término de intercepción, que es el valor log-odds cuando todas las variables independientes xi​ son 0.}$\n",
    "\n",
    "\n"
   ]
  },
  {
   "cell_type": "markdown",
   "metadata": {},
   "source": [
    "Los \"log odds\" o logaritmo de las probabilidades (odds) es un concepto fundamental en estadística y en particular en la regresión logística¹. \n",
    "\n",
    "1. **Probabilidades (odds)**: Las probabilidades de un evento se definen como la probabilidad de que ocurra un evento dividida por la probabilidad de que no ocurra¹. Si denotamos `p` como la probabilidad de que ocurra un evento, entonces las probabilidades de ese evento son `p/(1-p)`¹.\n",
    "\n",
    "2. **Log Odds**: Los \"log odds\" son simplemente el logaritmo natural de las probabilidades¹. Si las probabilidades de un evento son `p/(1-p)`, entonces los \"log odds\" de ese evento son `log(p/(1-p))`¹.\n",
    "   \n",
    "El término 1-p se utiliza para calcular las probabilidades (odds) de un evento. Aquí te explico por qué:\n",
    "\n",
    "p es la probabilidad de que ocurra un evento1.\n",
    "1-p es la probabilidad de que NO ocurra ese evento.\n",
    "\n",
    "Los \"log odds\" son útiles porque permiten modelar una variable dependiente binaria (es decir, una variable que solo puede tomar dos valores, como sí/no, verdadero/falso, etc.) en términos de una combinación lineal de variables independientes¹. Esto es fundamental en la regresión logística, donde se modela la log-odds de un evento en términos de las variables independientes¹."
   ]
  },
  {
   "cell_type": "markdown",
   "metadata": {},
   "source": [
    "**El conjunto de datos *load_breast_cancer* de sklearn es un conjunto de datos clásico y muy sencillo para la clasificación binaria**\n",
    "\n",
    "- Clases: 2 `(Maligno, Benigno)`.\n",
    "\n",
    "- Muestras por clase: `212 (Maligno), 357 (Benigno)`.\n",
    "\n",
    "- Total de muestras: `569`.\n",
    "\n",
    "- Dimensionalidad: `30`.\n",
    "\n",
    "- Características: `Reales, positivas`."
   ]
  },
  {
   "cell_type": "code",
   "execution_count": 1,
   "metadata": {},
   "outputs": [],
   "source": [
    "from sklearn.model_selection import train_test_split\n",
    "\n",
    "from sklearn.linear_model import LogisticRegression\n",
    "\n",
    "from sklearn.datasets import load_breast_cancer\n",
    "\n",
    "from sklearn.metrics import roc_curve, auc\n",
    "\n",
    "import matplotlib.pyplot as plt\n",
    "\n",
    "\n",
    "cancer=load_breast_cancer()\n",
    "\n",
    "x_train,x_Test,y_train,y_test=train_test_split(cancer.data,cancer.target,random_state=47,test_size=0.25) #Random_state me dice que me generara datos fijos y no aleatorios cada vez que se ejecute el codigo\n",
    "\n"
   ]
  },
  {
   "cell_type": "code",
   "execution_count": 2,
   "metadata": {},
   "outputs": [],
   "source": [
    "x=cancer.data\n",
    "\n",
    "y=cancer.target"
   ]
  },
  {
   "cell_type": "code",
   "execution_count": 3,
   "metadata": {},
   "outputs": [
    {
     "data": {
      "text/plain": [
       "(569, 30)"
      ]
     },
     "execution_count": 3,
     "metadata": {},
     "output_type": "execute_result"
    }
   ],
   "source": [
    "x.shape"
   ]
  },
  {
   "cell_type": "code",
   "execution_count": 4,
   "metadata": {},
   "outputs": [],
   "source": [
    "model_logistic=LogisticRegression(max_iter=5000) #Puede que necesite mas iteraciones y me pida el programa que lo haga, solo es un parametro en el la funcion del modelo\n",
    "\n",
    "train_model=model_logistic.fit(x_train,y_train)\n"
   ]
  },
  {
   "cell_type": "code",
   "execution_count": 5,
   "metadata": {},
   "outputs": [
    {
     "name": "stdout",
     "output_type": "stream",
     "text": [
      "Accuracy: 94.41%\n"
     ]
    }
   ],
   "source": [
    "# Evaluar el modelo y su rendimiento con la medida de accurancy\n",
    "score = model_logistic.score(x_Test, y_test)\n",
    "\n",
    "print(f'Accuracy: {score*100:.2f}%') #En este caso como acurrancy trabaja de 0 a 1 lo multiplicamos por 100 para tener un % mejor\n",
    "\n"
   ]
  },
  {
   "cell_type": "markdown",
   "metadata": {},
   "source": [
    "# Grafica ROC\n",
    "\n",
    "Una curva ROC (Receiver Operating Characteristic, o Característica Operativa del Receptor en español) es una representación gráfica que muestra el rendimiento de un modelo de clasificación binaria a medida que se varía el umbral de discriminación\n",
    "\n",
    "La curva ROC se construye a partir de la relación entre la Tasa de Verdaderos Positivos (TPR) y la Tasa de Falsos Positivos (FPR)\n",
    "\n",
    "Tasa de Verdaderos Positivos (TPR): Es el número de verdaderos positivos (los correctamente clasificados como “enfermos” en un contexto médico, por ejemplo) dividido por la suma de los verdaderos positivos y los falsos negativos (los incorrectamente clasificados como “sanos”). En otras palabras, es la proporción de positivos reales que se identifican correctamente.\n",
    "\n",
    "Tasa de Falsos Positivos (FPR): Es el número de falsos positivos (los individuos sanos clasificados erróneamente como “enfermos”) dividido por la suma de los falsos positivos y los verdaderos negativos (los individuos clasificados correctamente como “sanos”). Esencialmente, es la proporción de negativos reales que se identifican incorrectamente."
   ]
  },
  {
   "cell_type": "code",
   "execution_count": 6,
   "metadata": {},
   "outputs": [],
   "source": [
    "# Vamos a graficar esta regresion logistica con una curva ROC\n",
    "\n",
    "# Calcular las probabilidades de las predicciones esto es fundamental si queremos un modelo de ROC para comprobar el comportamiento del modelo\n",
    "probs = model_logistic.predict_proba(x_Test)\n",
    "\n",
    "# Calcular la TPR y FPR\n",
    "fpr, tpr, thresholds = roc_curve(y_test, probs[:,1]) #Primer parametro el ytrain y segundo la probabilidad con x tomando la columna de positivos\n",
    "\n",
    "\n"
   ]
  },
  {
   "cell_type": "markdown",
   "metadata": {},
   "source": [
    "## ¿ Porque `probs[:,1]` ?\n",
    "\n",
    "La primera columna es la probabilidad de la clase negativa (0) y la segunda columna es la probabilidad de la clase positiva (1).\n",
    "\n",
    "Cuando calculas la curva ROC, estás interesado en cómo varía la tasa de verdaderos positivos y la tasa de falsos positivos a medida que cambias el umbral para predecir la clase positiva. Por lo tanto, necesitas las probabilidades de la clase positiva, que están en la segunda columna de la matriz devuelta por predict_proba."
   ]
  },
  {
   "cell_type": "code",
   "execution_count": 7,
   "metadata": {},
   "outputs": [
    {
     "data": {
      "image/png": "[encoded data removed]",
      "text/plain": [
       "<Figure size 640x480 with 1 Axes>"
      ]
     },
     "metadata": {},
     "output_type": "display_data"
    },
    {
     "ename": "",
     "evalue": "",
     "output_type": "error",
     "traceback": [
      "\u001b[1;31mEl kernel se bloqueó al ejecutar código en la celda actual o en una celda anterior. \n",
      "\u001b[1;31mRevise el código de las celdas para identificar una posible causa del error. \n",
      "\u001b[1;31mHaga clic <a href='https://aka.ms/vscodeJupyterKernelCrash'>aquí</a> para obtener más información. \n",
      "\u001b[1;31mVea Jupyter <a href='command:jupyter.viewOutput'>log</a> para obtener más detalles."
     ]
    }
   ],
   "source": [
    "# Calcular el AUC (Area Under Curve)\n",
    "roc_auc = auc(fpr, tpr)\n",
    "\n",
    "# Crear el gráfico\n",
    "\n",
    "plt.figure()\n",
    "plt.plot(fpr, tpr, color='darkorange', lw=1, label='ROC curve (area = %0.2f)' % roc_auc) # (area = %0.2f)' % roc_auc me rendondea el numero a 2 decimales para que sea mas agradable\n",
    "plt.plot([0, 1], [0, 1], color='navy', lw=1, linestyle='--')\n",
    "plt.xlim([0.0, 1.0])\n",
    "plt.ylim([0.0, 1.05])\n",
    "plt.xlabel('False Positive Rate')\n",
    "plt.ylabel('True Positive Rate')\n",
    "plt.title('Receiver Operating Characteristic')\n",
    "plt.legend(loc=\"lower right\")\n",
    "plt.show()"
   ]
  },
  {
   "cell_type": "markdown",
   "metadata": {},
   "source": [
    "\n",
    "- `plt.plot([0, 1], [0, 1], color='navy', lw=1, linestyle='--')`: Esta línea dibuja una línea diagonal desde el punto (0,0) hasta el punto (1,1). Esta línea representa un clasificador aleatorio en una curva ROC, es decir, un clasificador que no tiene capacidad discriminativa y clasifica los casos positivos y negativos al azar.\n",
    "\n",
    "- `plt.xlim([0.0, 1.0])` y `plt.ylim([0.0, 1.05])`: Estas líneas establecen los límites de los ejes x e y de la gráfica, respectivamente. En una curva ROC, tanto el eje x (Tasa de Falsos Positivos) como el eje y (Tasa de Verdaderos Positivos) varían de 0 a 1. Por lo tanto, se establecen los límites de los ejes en este rango. El límite superior del eje y se establece ligeramente por encima de 1 (1.05) para dejar un pequeño espacio en la parte superior de la gráfica.\n",
    "\n"
   ]
  }
 ],
 "metadata": {
  "kernelspec": {
   "display_name": "Python 3",
   "language": "python",
   "name": "python3"
  },
  "language_info": {
   "codemirror_mode": {
    "name": "ipython",
    "version": 3
   },
   "file_extension": ".py",
   "mimetype": "text/x-python",
   "name": "python",
   "nbconvert_exporter": "python",
   "pygments_lexer": "ipython3",
   "version": "3.11.4"
  }
 },
 "nbformat": 4,
 "nbformat_minor": 2
}
