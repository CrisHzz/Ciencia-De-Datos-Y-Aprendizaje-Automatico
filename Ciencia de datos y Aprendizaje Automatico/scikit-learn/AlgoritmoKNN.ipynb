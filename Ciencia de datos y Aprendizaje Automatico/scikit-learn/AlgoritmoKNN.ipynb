{
 "cells": [
  {
   "cell_type": "markdown",
   "metadata": {},
   "source": [
    "# Algoritmo KNN ( K NEAREST NEIGHBOR)"
   ]
  },
  {
   "cell_type": "markdown",
   "metadata": {},
   "source": [
    "El algoritmo de k vecinos más cercanos, también conocido como KNN o k-NN, es un clasificador de aprendizaje supervisado no paramétrico. Este algoritmo utiliza la proximidad para hacer clasificaciones o predicciones sobre la agrupación de un punto de datos individual.\n",
    "\n",
    "Para los problemas de clasificación, se asigna una etiqueta de clase sobre la base de un voto mayoritario, es decir, se utiliza la etiqueta que se representa con más frecuencia alrededor de un punto de datos determinado"
   ]
  },
  {
   "cell_type": "markdown",
   "metadata": {},
   "source": [
    "# Caracteristicas\n",
    "\n",
    "1. **No paramétrico y supervisado**: KNN es un algoritmo de aprendizaje supervisado, lo que significa que utiliza datos etiquetados para aprender y hacer predicciones. Además, es no paramétrico, lo que significa que no hace suposiciones explícitas sobre la forma de los datos  (**Un algoritmo o método no paramétrico es aquel que no hace suposiciones fuertes sobre la forma funcional de los datos. En otras palabras, no presupone que los datos sigan una distribución específica, como la normal, que está caracterizada por parámetros específicos (como la media y la desviación estándar en el caso de la normal**)\n",
    "\n",
    "2. **Basado en la proximidad**: KNN hace predicciones basándose en la proximidad de los puntos de datos. En otras palabras, un punto de datos se clasifica en función de cómo se agrupan sus vecinos más cercanos.\n",
    "\n",
    "3. **Versátil**: KNN puede utilizarse tanto para problemas de clasificación como de regresión.\n",
    "\n",
    "4. **Aprendizaje perezoso**: KNN es un algoritmo de aprendizaje perezoso, lo que significa que no hay una fase de entrenamiento explícita. En su lugar, el algoritmo almacena todos los datos de entrenamiento y realiza los cálculos necesarios en el momento de la predicción.\n",
    "\n",
    "5. **Sensible a la escala**: KNN es sensible a la escala de las características. Las características con rangos más grandes pueden dominar la medida de la distancia, por lo que a menudo es necesario normalizar o estandarizar los datos.\n",
    "\n",
    "6. **Ineficiente con grandes conjuntos de datos**: A medida que el tamaño del conjunto de datos aumenta, KNN puede volverse ineficiente y lento, ya que necesita calcular la distancia a cada punto de datos en el conjunto de datos.\n",
    "\n"
   ]
  },
  {
   "cell_type": "markdown",
   "metadata": {},
   "source": [
    "# Un algoritmo no gaussiano"
   ]
  },
  {
   "cell_type": "markdown",
   "metadata": {},
   "source": [
    "El algoritmo KNN (k-Nearest Neighbors) no es un algoritmo gaussiano, sino que es un algoritmo no paramétrico.\n",
    "\n",
    "Un algoritmo gaussiano se refiere a aquellos que asumen que los datos siguen una distribución normal o gaussiana. Un ejemplo de un algoritmo gaussiano es el método de eliminación gaussiana, que es un método para resolver sistemas de ecuaciones lineales¹¹. Otro ejemplo es el proceso gaussiano, que es un proceso estocástico que asume que cualquier combinación lineal de las variables sigue una distribución normal.\n",
    "\n",
    "Por otro lado, un algoritmo no gaussiano no hace suposiciones sobre la distribución de los datos. El algoritmo KNN es un ejemplo de un algoritmo no gaussiano. No asume ninguna distribución específica para los datos y, en cambio, hace predicciones basándose en la proximidad de los puntos de datos.\n",
    "\n",
    "Por lo tanto, la principal diferencia entre los algoritmos gaussianos y no gaussianos radica en las suposiciones que hacen sobre los datos. Los algoritmos gaussianos asumen que los datos siguen una distribución normal, mientras que los algoritmos no gaussianos no hacen tal suposición.\n"
   ]
  },
  {
   "cell_type": "markdown",
   "metadata": {},
   "source": [
    "# Distancia euclidiana\n",
    "\n",
    "El algoritmo KNN usa el metodo de la distancia euclidiana para hallar la distancia entre los puntos del dataset y los puntos de entrenamiento\n",
    "\n",
    "\n",
    "$$d(x_i, x_j) = \\sqrt{\\sum_{r=1}^p (x_{ri} - x_{rj})^2}$$\n",
    "\n",
    "Esta fórmula se utiliza para calcular la distancia euclidiana entre dos puntos en un espacio de p dimensiones. Aquí están las partes de la fórmula:\n",
    "\n",
    "- $d(x_i, x_j)$: Esta es la distancia entre los puntos $(x_i)$ y $(x_j)$.\n",
    "\n",
    "- $(\\sqrt{})$: La raíz cuadrada se utiliza para convertir el cuadrado de la distancia en una magnitud de distancia.\n",
    "\n",
    "- $(\\sum_{r=1}^p)$: Esta es la notación de sumatoria, que indica que se suman los términos desde \\(r=1\\) hasta \\(p\\), donde \\(p\\) es el número de dimensiones.\n",
    "\n",
    "- $(x_{ri} - x_{rj})^2$: Este es el cuadrado de la diferencia entre las coordenadas correspondientes de los puntos $x_i$ y $x_j$. \n",
    "\n",
    "![distanciaEuclidiana](DistanciaEuclidiana.png)"
   ]
  },
  {
   "cell_type": "markdown",
   "metadata": {},
   "source": [
    "# La K"
   ]
  },
  {
   "cell_type": "markdown",
   "metadata": {},
   "source": [
    "En el algoritmo KNN (k-Nearest Neighbors), la “K” representa el número de vecinos más cercanos que se consideran para hacer una predicción.\n",
    "\n",
    "La elección de “K” es un aspecto crucial del algoritmo. Si “K” es demasiado pequeño, el algoritmo puede ser sensible al ruido y a las anomalías en los datos. Si “K” es demasiado grande, el algoritmo puede incluir puntos que están relativamente lejos del punto de interés, lo que puede diluir la influencia de los vecinos más cercanos."
   ]
  },
  {
   "cell_type": "markdown",
   "metadata": {},
   "source": [
    "# EJEMPLO PRACTICO\n",
    "\n",
    "**Usaremos nuevamente el dataset de iris que en pocas palabras se trata de colores de flores con sus petalos,sepalos,tamaños y dimensiones**\n",
    "\n",
    "1. El sépalo es una parte de la flor que protege y sostiene los órganos reproductores \n",
    "\n",
    "2. El pétalo es la parte de la flor que a menudo es colorida y atractiva para los polinizadores\n",
    "\n",
    "Variables son \n",
    "\n",
    "**Attributes Independent Variable**\n",
    "\n",
    "- petal length (longitud petalo)\n",
    "- petal width  (ancho del petalo)\n",
    "- sepal length (Longitud del sepalo)\n",
    "- sepal width (ancho del sépalo)\n",
    "\n",
    "**Dependent Variable**\n",
    "- Species\n",
    "- Iris setosa (tipo de planta)\n",
    "- Iris virginica\n",
    "- Iris versicolor\n"
   ]
  },
  {
   "cell_type": "code",
   "execution_count": 2,
   "metadata": {},
   "outputs": [],
   "source": [
    "from sklearn.datasets import load_iris\n",
    "\n",
    "from sklearn.model_selection import train_test_split\n",
    "\n",
    "from sklearn.neighbors import KNeighborsClassifier\n",
    "\n",
    "from sklearn.metrics import accuracy_score , confusion_matrix,classification_report\n",
    "\n",
    "\n",
    "import numpy as np\n",
    "\n",
    "import matplotlib.pyplot as plt\n"
   ]
  },
  {
   "cell_type": "code",
   "execution_count": 3,
   "metadata": {},
   "outputs": [
    {
     "data": {
      "text/plain": [
       "array([[5.1, 3.5, 1.4, 0.2],\n",
       "       [4.9, 3. , 1.4, 0.2],\n",
       "       [4.7, 3.2, 1.3, 0.2],\n",
       "       [4.6, 3.1, 1.5, 0.2],\n",
       "       [5. , 3.6, 1.4, 0.2],\n",
       "       [5.4, 3.9, 1.7, 0.4],\n",
       "       [4.6, 3.4, 1.4, 0.3],\n",
       "       [5. , 3.4, 1.5, 0.2],\n",
       "       [4.4, 2.9, 1.4, 0.2],\n",
       "       [4.9, 3.1, 1.5, 0.1],\n",
       "       [5.4, 3.7, 1.5, 0.2],\n",
       "       [4.8, 3.4, 1.6, 0.2],\n",
       "       [4.8, 3. , 1.4, 0.1],\n",
       "       [4.3, 3. , 1.1, 0.1],\n",
       "       [5.8, 4. , 1.2, 0.2],\n",
       "       [5.7, 4.4, 1.5, 0.4],\n",
       "       [5.4, 3.9, 1.3, 0.4],\n",
       "       [5.1, 3.5, 1.4, 0.3],\n",
       "       [5.7, 3.8, 1.7, 0.3],\n",
       "       [5.1, 3.8, 1.5, 0.3],\n",
       "       [5.4, 3.4, 1.7, 0.2],\n",
       "       [5.1, 3.7, 1.5, 0.4],\n",
       "       [4.6, 3.6, 1. , 0.2],\n",
       "       [5.1, 3.3, 1.7, 0.5],\n",
       "       [4.8, 3.4, 1.9, 0.2],\n",
       "       [5. , 3. , 1.6, 0.2],\n",
       "       [5. , 3.4, 1.6, 0.4],\n",
       "       [5.2, 3.5, 1.5, 0.2],\n",
       "       [5.2, 3.4, 1.4, 0.2],\n",
       "       [4.7, 3.2, 1.6, 0.2],\n",
       "       [4.8, 3.1, 1.6, 0.2],\n",
       "       [5.4, 3.4, 1.5, 0.4],\n",
       "       [5.2, 4.1, 1.5, 0.1],\n",
       "       [5.5, 4.2, 1.4, 0.2],\n",
       "       [4.9, 3.1, 1.5, 0.2],\n",
       "       [5. , 3.2, 1.2, 0.2],\n",
       "       [5.5, 3.5, 1.3, 0.2],\n",
       "       [4.9, 3.6, 1.4, 0.1],\n",
       "       [4.4, 3. , 1.3, 0.2],\n",
       "       [5.1, 3.4, 1.5, 0.2],\n",
       "       [5. , 3.5, 1.3, 0.3],\n",
       "       [4.5, 2.3, 1.3, 0.3],\n",
       "       [4.4, 3.2, 1.3, 0.2],\n",
       "       [5. , 3.5, 1.6, 0.6],\n",
       "       [5.1, 3.8, 1.9, 0.4],\n",
       "       [4.8, 3. , 1.4, 0.3],\n",
       "       [5.1, 3.8, 1.6, 0.2],\n",
       "       [4.6, 3.2, 1.4, 0.2],\n",
       "       [5.3, 3.7, 1.5, 0.2],\n",
       "       [5. , 3.3, 1.4, 0.2],\n",
       "       [7. , 3.2, 4.7, 1.4],\n",
       "       [6.4, 3.2, 4.5, 1.5],\n",
       "       [6.9, 3.1, 4.9, 1.5],\n",
       "       [5.5, 2.3, 4. , 1.3],\n",
       "       [6.5, 2.8, 4.6, 1.5],\n",
       "       [5.7, 2.8, 4.5, 1.3],\n",
       "       [6.3, 3.3, 4.7, 1.6],\n",
       "       [4.9, 2.4, 3.3, 1. ],\n",
       "       [6.6, 2.9, 4.6, 1.3],\n",
       "       [5.2, 2.7, 3.9, 1.4],\n",
       "       [5. , 2. , 3.5, 1. ],\n",
       "       [5.9, 3. , 4.2, 1.5],\n",
       "       [6. , 2.2, 4. , 1. ],\n",
       "       [6.1, 2.9, 4.7, 1.4],\n",
       "       [5.6, 2.9, 3.6, 1.3],\n",
       "       [6.7, 3.1, 4.4, 1.4],\n",
       "       [5.6, 3. , 4.5, 1.5],\n",
       "       [5.8, 2.7, 4.1, 1. ],\n",
       "       [6.2, 2.2, 4.5, 1.5],\n",
       "       [5.6, 2.5, 3.9, 1.1],\n",
       "       [5.9, 3.2, 4.8, 1.8],\n",
       "       [6.1, 2.8, 4. , 1.3],\n",
       "       [6.3, 2.5, 4.9, 1.5],\n",
       "       [6.1, 2.8, 4.7, 1.2],\n",
       "       [6.4, 2.9, 4.3, 1.3],\n",
       "       [6.6, 3. , 4.4, 1.4],\n",
       "       [6.8, 2.8, 4.8, 1.4],\n",
       "       [6.7, 3. , 5. , 1.7],\n",
       "       [6. , 2.9, 4.5, 1.5],\n",
       "       [5.7, 2.6, 3.5, 1. ],\n",
       "       [5.5, 2.4, 3.8, 1.1],\n",
       "       [5.5, 2.4, 3.7, 1. ],\n",
       "       [5.8, 2.7, 3.9, 1.2],\n",
       "       [6. , 2.7, 5.1, 1.6],\n",
       "       [5.4, 3. , 4.5, 1.5],\n",
       "       [6. , 3.4, 4.5, 1.6],\n",
       "       [6.7, 3.1, 4.7, 1.5],\n",
       "       [6.3, 2.3, 4.4, 1.3],\n",
       "       [5.6, 3. , 4.1, 1.3],\n",
       "       [5.5, 2.5, 4. , 1.3],\n",
       "       [5.5, 2.6, 4.4, 1.2],\n",
       "       [6.1, 3. , 4.6, 1.4],\n",
       "       [5.8, 2.6, 4. , 1.2],\n",
       "       [5. , 2.3, 3.3, 1. ],\n",
       "       [5.6, 2.7, 4.2, 1.3],\n",
       "       [5.7, 3. , 4.2, 1.2],\n",
       "       [5.7, 2.9, 4.2, 1.3],\n",
       "       [6.2, 2.9, 4.3, 1.3],\n",
       "       [5.1, 2.5, 3. , 1.1],\n",
       "       [5.7, 2.8, 4.1, 1.3],\n",
       "       [6.3, 3.3, 6. , 2.5],\n",
       "       [5.8, 2.7, 5.1, 1.9],\n",
       "       [7.1, 3. , 5.9, 2.1],\n",
       "       [6.3, 2.9, 5.6, 1.8],\n",
       "       [6.5, 3. , 5.8, 2.2],\n",
       "       [7.6, 3. , 6.6, 2.1],\n",
       "       [4.9, 2.5, 4.5, 1.7],\n",
       "       [7.3, 2.9, 6.3, 1.8],\n",
       "       [6.7, 2.5, 5.8, 1.8],\n",
       "       [7.2, 3.6, 6.1, 2.5],\n",
       "       [6.5, 3.2, 5.1, 2. ],\n",
       "       [6.4, 2.7, 5.3, 1.9],\n",
       "       [6.8, 3. , 5.5, 2.1],\n",
       "       [5.7, 2.5, 5. , 2. ],\n",
       "       [5.8, 2.8, 5.1, 2.4],\n",
       "       [6.4, 3.2, 5.3, 2.3],\n",
       "       [6.5, 3. , 5.5, 1.8],\n",
       "       [7.7, 3.8, 6.7, 2.2],\n",
       "       [7.7, 2.6, 6.9, 2.3],\n",
       "       [6. , 2.2, 5. , 1.5],\n",
       "       [6.9, 3.2, 5.7, 2.3],\n",
       "       [5.6, 2.8, 4.9, 2. ],\n",
       "       [7.7, 2.8, 6.7, 2. ],\n",
       "       [6.3, 2.7, 4.9, 1.8],\n",
       "       [6.7, 3.3, 5.7, 2.1],\n",
       "       [7.2, 3.2, 6. , 1.8],\n",
       "       [6.2, 2.8, 4.8, 1.8],\n",
       "       [6.1, 3. , 4.9, 1.8],\n",
       "       [6.4, 2.8, 5.6, 2.1],\n",
       "       [7.2, 3. , 5.8, 1.6],\n",
       "       [7.4, 2.8, 6.1, 1.9],\n",
       "       [7.9, 3.8, 6.4, 2. ],\n",
       "       [6.4, 2.8, 5.6, 2.2],\n",
       "       [6.3, 2.8, 5.1, 1.5],\n",
       "       [6.1, 2.6, 5.6, 1.4],\n",
       "       [7.7, 3. , 6.1, 2.3],\n",
       "       [6.3, 3.4, 5.6, 2.4],\n",
       "       [6.4, 3.1, 5.5, 1.8],\n",
       "       [6. , 3. , 4.8, 1.8],\n",
       "       [6.9, 3.1, 5.4, 2.1],\n",
       "       [6.7, 3.1, 5.6, 2.4],\n",
       "       [6.9, 3.1, 5.1, 2.3],\n",
       "       [5.8, 2.7, 5.1, 1.9],\n",
       "       [6.8, 3.2, 5.9, 2.3],\n",
       "       [6.7, 3.3, 5.7, 2.5],\n",
       "       [6.7, 3. , 5.2, 2.3],\n",
       "       [6.3, 2.5, 5. , 1.9],\n",
       "       [6.5, 3. , 5.2, 2. ],\n",
       "       [6.2, 3.4, 5.4, 2.3],\n",
       "       [5.9, 3. , 5.1, 1.8]])"
      ]
     },
     "execution_count": 3,
     "metadata": {},
     "output_type": "execute_result"
    }
   ],
   "source": [
    "iris_model=load_iris()\n",
    "\n",
    "x=iris_model.data\n",
    "\n",
    "y=iris_model.target\n",
    "\n",
    "x"
   ]
  },
  {
   "cell_type": "code",
   "execution_count": 4,
   "metadata": {},
   "outputs": [
    {
     "data": {
      "text/plain": [
       "array([0, 0, 0, 0, 0, 0, 0, 0, 0, 0, 0, 0, 0, 0, 0, 0, 0, 0, 0, 0, 0, 0,\n",
       "       0, 0, 0, 0, 0, 0, 0, 0, 0, 0, 0, 0, 0, 0, 0, 0, 0, 0, 0, 0, 0, 0,\n",
       "       0, 0, 0, 0, 0, 0, 1, 1, 1, 1, 1, 1, 1, 1, 1, 1, 1, 1, 1, 1, 1, 1,\n",
       "       1, 1, 1, 1, 1, 1, 1, 1, 1, 1, 1, 1, 1, 1, 1, 1, 1, 1, 1, 1, 1, 1,\n",
       "       1, 1, 1, 1, 1, 1, 1, 1, 1, 1, 1, 1, 2, 2, 2, 2, 2, 2, 2, 2, 2, 2,\n",
       "       2, 2, 2, 2, 2, 2, 2, 2, 2, 2, 2, 2, 2, 2, 2, 2, 2, 2, 2, 2, 2, 2,\n",
       "       2, 2, 2, 2, 2, 2, 2, 2, 2, 2, 2, 2, 2, 2, 2, 2, 2, 2])"
      ]
     },
     "execution_count": 4,
     "metadata": {},
     "output_type": "execute_result"
    }
   ],
   "source": [
    "y"
   ]
  },
  {
   "cell_type": "markdown",
   "metadata": {},
   "source": [
    "La variable `x` representa las características del conjunto de datos Iris. Cada fila corresponde a una muestra de flor diferente, y las columnas representan diferentes medidas tomadas para cada flor. Estas medidas incluyen la longitud del sépalo, el ancho del sépalo, la longitud del pétalo y el ancho del pétalo.\n",
    "\n",
    "La variable `y` representa la variable objetivo, que es la especie de cada flor. Las especies están codificadas como enteros, donde 0 representa setosa, 1 representa versicolor y 2 representa virginica.\n",
    "\n",
    "El orden de cada dato de el arreglo de x es el siguiente:\n",
    "\n",
    "Longitud de sepalo , ancho de sepalom longitud de petalo y ancho de petalo\n",
    "\n",
    "[5.1, 3.5, 1.4, 0.2]: Estas son las medidas de la primera flor. Tiene una longitud de sépalo de 5.1 cm, un ancho de sépalo de 3.5 cm, una longitud de pétalo de 1.4 cm y un ancho de pétalo de 0.2 cm."
   ]
  },
  {
   "cell_type": "code",
   "execution_count": 5,
   "metadata": {},
   "outputs": [
    {
     "name": "stdout",
     "output_type": "stream",
     "text": [
      "(150, 4) (150,)\n"
     ]
    }
   ],
   "source": [
    "print(x.shape,y.shape)"
   ]
  },
  {
   "cell_type": "code",
   "execution_count": 6,
   "metadata": {},
   "outputs": [
    {
     "data": {
      "image/png": "[encoded data removed]",
      "text/plain": [
       "<Figure size 1000x800 with 1 Axes>"
      ]
     },
     "metadata": {},
     "output_type": "display_data"
    }
   ],
   "source": [
    "plt.figure(figsize=(10, 8))\n",
    "\n",
    "colors: list= [\"mediumpurple\",\"deepskyblue\",\"yellowgreen\"]\n",
    "\n",
    "\n",
    "for i in range(len(iris_model.target_names)):\n",
    "    plt.scatter(x[y == i, 0], x[y == i, 1], label=iris_model.target_names[i],color=colors[i])\n",
    "\n",
    "plt.title('Gráfico de dispersión de Iris')\n",
    "\n",
    "plt.xlabel('Longitud del sépalo')\n",
    "plt.ylabel('Ancho del sépalo')\n",
    "\n",
    "plt.legend()\n",
    "\n",
    "plt.show()"
   ]
  },
  {
   "cell_type": "markdown",
   "metadata": {},
   "source": [
    "\n",
    "- `plt.scatter(x[y == i, 0], x[y == i, 1], label=iris_model.target_names[i],color=colors[i])`: Esta línea de código genera un gráfico de dispersión para cada especie de flor. Aquí está cómo funciona:\n",
    "\n",
    "    - `x[y == i, 0]` y `x[y == i, 1]`: Estas son las coordenadas x e y del gráfico de dispersión. `x[y == i, 0]` selecciona todas las filas de la matriz `x` donde la especie de la flor (representada por `y`) es igual a `i`, y luego selecciona la primera columna (representada por `0`). De manera similar, `x[y == i, 1]` selecciona la segunda columna. En resumen, estas líneas de código están seleccionando la longitud y el ancho del sépalo para la especie de flor `i`.\n"
   ]
  },
  {
   "cell_type": "code",
   "execution_count": 7,
   "metadata": {},
   "outputs": [],
   "source": [
    "x_train,x_test,y_train,y_test=train_test_split(x,y,random_state=42,test_size=0.20)\n"
   ]
  },
  {
   "cell_type": "markdown",
   "metadata": {},
   "source": [
    "Necesitamos hallar a La K con la que trabajaremos el modelo, algunos tips basicos para hallar n son:\n",
    "\n",
    "- Valores impares: A menudo es una buena idea elegir un valor impar para k para evitar empates, es decir, situaciones en las que dos clases tienen el mismo número de vecinos más cercanos.\n",
    "\n",
    "- Raíz cuadrada de n: Algunos expertos sugieren que un buen punto de partida para k es la raíz cuadrada del número total de puntos de datos.\n",
    "\n",
    "- Tanteo: A pesar de ser la manera mas arcaica , es la mas facil, ir tantenado con valores en K y ver cual es el mas indicado\n"
   ]
  },
  {
   "cell_type": "code",
   "execution_count": 8,
   "metadata": {},
   "outputs": [
    {
     "data": {
      "text/plain": [
       "11"
      ]
     },
     "execution_count": 8,
     "metadata": {},
     "output_type": "execute_result"
    }
   ],
   "source": [
    "n = x.shape[0] #si el tamaño es 150,4 tomamos el primero por lo tanto el valor [0]\n",
    "\n",
    "k = int(np.sqrt(n)) #Hallamos el valor de k usando la raiz de n, como es 12 llevemoslo a un numero impar\n",
    "\n",
    "k=k-1 #11\n",
    "\n",
    "k\n",
    "\n"
   ]
  },
  {
   "cell_type": "code",
   "execution_count": 9,
   "metadata": {},
   "outputs": [],
   "source": [
    "algoritmo_knn=KNeighborsClassifier(n_neighbors=k)\n",
    "\n",
    "algoritmo_knn.fit(x_train,y_train)\n",
    "\n",
    "predicciones=algoritmo_knn.predict(x_test)\n"
   ]
  },
  {
   "cell_type": "code",
   "execution_count": 10,
   "metadata": {},
   "outputs": [
    {
     "data": {
      "text/plain": [
       "100.0"
      ]
     },
     "execution_count": 10,
     "metadata": {},
     "output_type": "execute_result"
    }
   ],
   "source": [
    "presicion=accuracy_score(y_test,predicciones)\n",
    "\n",
    "presicion*100 #Vemos que nuestra presicion es perfecta , esto se logra con la forma en la que hallamos n y la calidad de los datos\n"
   ]
  },
  {
   "cell_type": "code",
   "execution_count": 11,
   "metadata": {},
   "outputs": [
    {
     "name": "stdout",
     "output_type": "stream",
     "text": [
      "[[10  0  0]\n",
      " [ 0  9  0]\n",
      " [ 0  0 11]]\n"
     ]
    }
   ],
   "source": [
    "matrix=confusion_matrix(y_test,predicciones)\n",
    "\n",
    "print(matrix)"
   ]
  },
  {
   "cell_type": "code",
   "execution_count": 12,
   "metadata": {},
   "outputs": [
    {
     "name": "stdout",
     "output_type": "stream",
     "text": [
      "              precision    recall  f1-score   support\n",
      "\n",
      "           0       1.00      1.00      1.00        10\n",
      "           1       1.00      1.00      1.00         9\n",
      "           2       1.00      1.00      1.00        11\n",
      "\n",
      "    accuracy                           1.00        30\n",
      "   macro avg       1.00      1.00      1.00        30\n",
      "weighted avg       1.00      1.00      1.00        30\n",
      "\n"
     ]
    }
   ],
   "source": [
    "report=classification_report(y_test,predicciones)\n",
    "\n",
    "print(report)"
   ]
  },
  {
   "cell_type": "code",
   "execution_count": 13,
   "metadata": {},
   "outputs": [
    {
     "name": "stdout",
     "output_type": "stream",
     "text": [
      "Esta flor es una: setosa\n"
     ]
    }
   ],
   "source": [
    "test = [[5.1, 3.5, 1.4, 0.2]]\n",
    "\n",
    "predecir=algoritmo_knn.predict(test)\n",
    "\n",
    "tipo=iris_model.target_names\n",
    "\n",
    "print(f\"Esta flor es una: {tipo[predecir[0]]}\")\n",
    "\n"
   ]
  },
  {
   "cell_type": "markdown",
   "metadata": {},
   "source": [
    "- `tipo[predecir[0]]`: Esta línea de código obtiene el nombre de la especie de la flor que se predijo. `predecir[0]` es el valor codificado de la especie de la flor predicha, y `tipo[predecir[0]]` es el nombre de esa especie.\n"
   ]
  },
  {
   "cell_type": "code",
   "execution_count": 16,
   "metadata": {},
   "outputs": [
    {
     "data": {
      "image/png": "[encoded data removed]",
      "text/plain": [
       "<Figure size 1000x700 with 2 Axes>"
      ]
     },
     "metadata": {},
     "output_type": "display_data"
    }
   ],
   "source": [
    "import seaborn as sns\n",
    "\n",
    "plt.figure(figsize=(10,7))\n",
    "sns.heatmap(matrix, annot=True)\n",
    "plt.xlabel('Predicciones')\n",
    "plt.ylabel('Valores reales')\n",
    "plt.show()"
   ]
  },
  {
   "cell_type": "markdown",
   "metadata": {},
   "source": [
    "Este código generará un mapa de calor que muestra cómo se distribuyen las predicciones del modelo en comparación con los valores reales. Los números en la diagonal principal de la matriz representan las predicciones correctas, mientras que los otros números representan las predicciones incorrectas."
   ]
  }
 ],
 "metadata": {
  "kernelspec": {
   "display_name": "Python 3",
   "language": "python",
   "name": "python3"
  },
  "language_info": {
   "codemirror_mode": {
    "name": "ipython",
    "version": 3
   },
   "file_extension": ".py",
   "mimetype": "text/x-python",
   "name": "python",
   "nbconvert_exporter": "python",
   "pygments_lexer": "ipython3",
   "version": "3.11.4"
  }
 },
 "nbformat": 4,
 "nbformat_minor": 2
}
