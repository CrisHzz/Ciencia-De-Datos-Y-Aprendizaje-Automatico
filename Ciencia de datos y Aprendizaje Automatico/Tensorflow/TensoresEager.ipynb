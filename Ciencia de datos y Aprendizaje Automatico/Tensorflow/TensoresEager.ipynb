{
 "cells": [
  {
   "cell_type": "markdown",
   "metadata": {},
   "source": [
    "# Tensorflow"
   ]
  },
  {
   "cell_type": "markdown",
   "metadata": {},
   "source": [
    "Eager Execution en TensorFlow\n",
    "\n",
    "Eager Execution es una característica de TensorFlow que permite la evaluación de operaciones de inmediato, sin necesidad de construir gráficos computacionales previamente. En contraste con el modo \"Graph Execution\", donde primero se define un grafo de operaciones y luego se ejecuta, en Eager Execution cada operación se ejecuta paso a paso, lo que facilita la depuración y la experimentación interactiva."
   ]
  },
  {
   "cell_type": "markdown",
   "metadata": {},
   "source": [
    "# Definicion de Producto tensorial"
   ]
  },
  {
   "cell_type": "markdown",
   "metadata": {},
   "source": [
    "![tensor_product](ProductoTensorial.png)"
   ]
  },
  {
   "cell_type": "code",
   "execution_count": 42,
   "metadata": {},
   "outputs": [
    {
     "name": "stdout",
     "output_type": "stream",
     "text": [
      "tf.Tensor(32, shape=(), dtype=int32)\n"
     ]
    },
    {
     "data": {
      "text/plain": [
       "<tf.Tensor: shape=(0,), dtype=int32, numpy=array([], dtype=int32)>"
      ]
     },
     "execution_count": 42,
     "metadata": {},
     "output_type": "execute_result"
    }
   ],
   "source": [
    "import numpy as np\n",
    "\n",
    "import tensorflow as tf\n",
    "\n",
    "a=tf.constant(np.array([1,2,3]))\n",
    "\n",
    "b=tf.constant(np.arange(4,7))\n",
    "\n",
    "c_escalar=tf.tensordot(a,b,1)\n",
    "\n",
    "#Cuando axes = 1 , tf.tensordot realiza un producto escalar (o producto interno) de los dos tensores. \n",
    "\n",
    "#En este caso, los tensores de entrada se tratan como vectores, independientemente de su forma, \n",
    "\n",
    "#y se realiza un producto escalar de estos vectores.\n",
    "\n",
    "print(c_escalar)\n",
    "\n",
    "tf.shape(c_escalar)"
   ]
  },
  {
   "cell_type": "code",
   "execution_count": 43,
   "metadata": {},
   "outputs": [
    {
     "name": "stdout",
     "output_type": "stream",
     "text": [
      "tf.Tensor(\n",
      "[[ 4  5  6]\n",
      " [ 8 10 12]\n",
      " [12 15 18]], shape=(3, 3), dtype=int32)\n"
     ]
    }
   ],
   "source": [
    "#Ahora vamos a hacer un producto tensorial normal\n",
    "\n",
    "c_tensorial=tf.tensordot(a,b,0) #Con axis=0\n",
    "\n",
    "print(c_tensorial)\n",
    "\n",
    "#Aqui se evidencia como funciona en realidad un producto tensorial y el\n"
   ]
  },
  {
   "cell_type": "code",
   "execution_count": 44,
   "metadata": {},
   "outputs": [
    {
     "name": "stdout",
     "output_type": "stream",
     "text": [
      "tf.Tensor([50 70 90], shape=(3,), dtype=int32)\n"
     ]
    }
   ],
   "source": [
    "#Suma de tensores\n",
    "\n",
    "a_add=tf.constant(np.array([10,20,30]))\n",
    "\n",
    "b_add=tf.constant(np.array([40,50,60]))\n",
    "\n",
    "print(tf.add(a_add,b_add)) #Tambien puedo restar usando substract\n",
    "\n",
    "#Tensor unidimensional de 3 elementos\n"
   ]
  },
  {
   "cell_type": "code",
   "execution_count": 45,
   "metadata": {},
   "outputs": [
    {
     "data": {
      "text/plain": [
       "<tf.Tensor: shape=(3, 3, 3), dtype=int32, numpy=\n",
       "array([[[ 1,  2,  3],\n",
       "        [ 2,  3,  4],\n",
       "        [ 3,  4,  5]],\n",
       "\n",
       "       [[ 4,  5,  6],\n",
       "        [ 5,  6,  7],\n",
       "        [ 6,  7,  8]],\n",
       "\n",
       "       [[ 7,  8,  9],\n",
       "        [ 8,  9, 10],\n",
       "        [ 9, 10, 11]]])>"
      ]
     },
     "execution_count": 45,
     "metadata": {},
     "output_type": "execute_result"
    }
   ],
   "source": [
    "Tensor = tf.constant( [ [[1,2,3],[2,3,4],[3,4,5]] , [[4,5,6],[5,6,7],[6,7,8]] , [[7,8,9],[8,9,10],[9,10,11]] ] )\n",
    "\n",
    "Tensor\n",
    "\n",
    "#Un tensor de 3 dimensiones con 3 capas ,3x3x3"
   ]
  },
  {
   "cell_type": "code",
   "execution_count": 46,
   "metadata": {},
   "outputs": [
    {
     "name": "stdout",
     "output_type": "stream",
     "text": [
      "tf.Tensor(\n",
      "[[ 2  4  6]\n",
      " [ 4  6  8]\n",
      " [ 6  8 10]], shape=(3, 3), dtype=int32)\n"
     ]
    }
   ],
   "source": [
    "#Multiplicacion de matrices con tensores , la clasica\n",
    "\n",
    "\n",
    "Matrix_one = tf.constant([[1,2,3],[2,3,4],[3,4,5]])\n",
    "\n",
    "Matrix_two = tf.constant([[2,2,2],[2,2,2],[2,2,2]])\n",
    "\n",
    "print(tf.multiply(Matrix_one,Matrix_two))"
   ]
  },
  {
   "cell_type": "code",
   "execution_count": 47,
   "metadata": {},
   "outputs": [
    {
     "name": "stdout",
     "output_type": "stream",
     "text": [
      "[[1 2 3]\n",
      " [4 5 6]]\n",
      "[[ 7  8  9]\n",
      " [10 11 12]]\n"
     ]
    }
   ],
   "source": [
    "# tf.Variable se utiliza para definir tensores que pueden ser modificados durante la ejecución de un programa.\n",
    "\n",
    "my_variable = tf.Variable([[1, 2, 3], [4, 5, 6]])\n",
    "\n",
    "# Imprimir el valor actual de la variable\n",
    "print(my_variable.numpy())\n",
    "\n",
    "# Modificar el valor de la variable\n",
    "my_variable.assign([[7, 8, 9], [10, 11, 12]])\n",
    "\n",
    "# Imprimir el nuevo valor de la variable\n",
    "print(my_variable.numpy())"
   ]
  }
 ],
 "metadata": {
  "kernelspec": {
   "display_name": "Python 3",
   "language": "python",
   "name": "python3"
  },
  "language_info": {
   "codemirror_mode": {
    "name": "ipython",
    "version": 3
   },
   "file_extension": ".py",
   "mimetype": "text/x-python",
   "name": "python",
   "nbconvert_exporter": "python",
   "pygments_lexer": "ipython3",
   "version": "3.11.4"
  }
 },
 "nbformat": 4,
 "nbformat_minor": 2
}
