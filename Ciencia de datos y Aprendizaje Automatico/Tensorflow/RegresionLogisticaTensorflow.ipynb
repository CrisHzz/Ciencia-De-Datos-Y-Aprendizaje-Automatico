{
 "cells": [
  {
   "cell_type": "markdown",
   "metadata": {},
   "source": [
    "# Regresion logistica usando tensorflow\n",
    "\n",
    "Luego de aprender lo basico y de que trata la regresion logistica en scikit learn, podemos adentrarnos mas y hacer un modelo por nuestra cuenta usando tensorflow"
   ]
  },
  {
   "cell_type": "code",
   "execution_count": 1,
   "metadata": {},
   "outputs": [
    {
     "name": "stdout",
     "output_type": "stream",
     "text": [
      "WARNING:tensorflow:From C:\\Users\\Cristian\\AppData\\Roaming\\Python\\Python311\\site-packages\\keras\\src\\losses.py:2976: The name tf.losses.sparse_softmax_cross_entropy is deprecated. Please use tf.compat.v1.losses.sparse_softmax_cross_entropy instead.\n",
      "\n"
     ]
    }
   ],
   "source": [
    "import tensorflow as tf\n",
    "\n",
    "import pandas as pd\n",
    "\n",
    "import numpy as np\n",
    "\n",
    "from sklearn.datasets import load_iris\n",
    "\n",
    "from sklearn.model_selection import train_test_split\n",
    "\n",
    "import matplotlib.pyplot as plt\n"
   ]
  },
  {
   "cell_type": "markdown",
   "metadata": {},
   "source": [
    "**Usaremos nuevamente el dataset de iris que en pocas palabras se trata de colores de flores con sus petalos,sepalos,tamaños y dimensiones**\n",
    "\n",
    "1. El sépalo es una parte de la flor que protege y sostiene los órganos reproductores \n",
    "\n",
    "2. El pétalo es la parte de la flor que a menudo es colorida y atractiva para los polinizadores\n",
    "\n",
    "Variables son \n",
    "\n",
    "**Attributes Independent Variable**\n",
    "\n",
    "- petal length (longitud petalo)\n",
    "- petal width  (ancho del petalo)\n",
    "- sepal length (Longitud del sepalo)\n",
    "- sepal width (ancho del sépalo)\n",
    "\n",
    "**Dependent Variable**\n",
    "- Species\n",
    "- Iris setosa (tipo de planta)\n",
    "- Iris virginica\n",
    "- Iris versicolor\n",
    "\n",
    "![partesFlor](220px-Pétalo-sépalo.jpg)"
   ]
  },
  {
   "cell_type": "code",
   "execution_count": 2,
   "metadata": {},
   "outputs": [],
   "source": [
    "iris=load_iris()\n",
    "\n",
    "iris_x,iris_y=iris.data[:-1,:], iris.target[:-1]#Verificar que tendran el mismo tamaño de datos iris_X y iris_y\n",
    "\n",
    "iris_y=pd.get_dummies(iris_y).values #Se crea un dummie con el tipo de iris de las flores para categorizar mejor, luego values lo pasa a un arrelglo para el modelo luego\n",
    "\n"
   ]
  },
  {
   "cell_type": "code",
   "execution_count": 3,
   "metadata": {},
   "outputs": [
    {
     "name": "stdout",
     "output_type": "stream",
     "text": [
      "(149, 4)\n",
      "(149, 3)\n"
     ]
    }
   ],
   "source": [
    "print(iris_x.shape)\n",
    "\n",
    "print(iris_y.shape)"
   ]
  },
  {
   "cell_type": "markdown",
   "metadata": {},
   "source": [
    "**Como vemos si son compatibles**\n",
    "\n",
    "- iris.data[:-1,-1:]: Esto selecciona todas las filas de iris.data excepto la última fila ([:-1]), y solo la última columna ([-1:]). En otras palabras, está seleccionando la última característica de todas las flores de iris excepto la última.\n",
    "  \n",
    "- iris.target[:-1]: Esto selecciona todas las filas de iris.target excepto la última fila ([:-1]). En otras palabras, está seleccionando las etiquetas de todas las flores de iris excepto la última."
   ]
  },
  {
   "cell_type": "code",
   "execution_count": 4,
   "metadata": {},
   "outputs": [
    {
     "name": "stdout",
     "output_type": "stream",
     "text": [
      "numFeatures is :  4\n"
     ]
    }
   ],
   "source": [
    "# train ,test siempre en ese orden \n",
    "x_train,x_test,y_train,y_Test =train_test_split(iris_x,iris_y,test_size=0.37,random_state=47)\n",
    "\n",
    "numFeatures=x_train.shape[1] #Se le da un numero de etiquetas a los datos x de entrenamiento son las 4 tipos de variables que existen\n",
    "\n",
    "# [0] para sus filas y [1] para sus columnas\n",
    "\n",
    "print('numFeatures is : ', numFeatures ) #Columnas de x_train "
   ]
  },
  {
   "cell_type": "code",
   "execution_count": 5,
   "metadata": {},
   "outputs": [
    {
     "name": "stdout",
     "output_type": "stream",
     "text": [
      "numLabels is :  3\n"
     ]
    }
   ],
   "source": [
    "numLabels = y_train.shape[1]\n",
    "print('numLabels is : ', numLabels ) #Columnas de  y_Train\n"
   ]
  },
  {
   "cell_type": "markdown",
   "metadata": {},
   "source": [
    "# Creamos nuestros tensores Constantes"
   ]
  },
  {
   "cell_type": "code",
   "execution_count": 6,
   "metadata": {},
   "outputs": [],
   "source": [
    "x_train=tf.constant(x_train,dtype='float32')\n",
    "\n",
    "x_test=tf.constant(x_test,dtype='float32')\n",
    "\n",
    "y_train=tf.constant(y_train,dtype='float32')\n",
    "\n",
    "y_Test=tf.constant(y_Test,dtype='float32')\n",
    "\n"
   ]
  },
  {
   "cell_type": "markdown",
   "metadata": {},
   "source": [
    "\n",
    "Recordemos varias formulas que utilizaremos para la regresion logistica\n",
    "\n",
    "$$\\text{Regresion lineal}$$\n",
    "\n",
    "$$y=MX+B$$\n",
    "\n",
    "$$\\text{Funcion sigmoide }$$\n",
    "# Funcion sigmoide\n",
    "\n",
    "La función sigmoide es una función matemática que tiene una curva característica en forma de “S”. Esta función transforma los valores entre el rango 0 y 1.\n",
    "\n",
    "La expresión matemática para la función sigmoide es\n",
    "\n",
    "$$\\sigma=\\frac{1}{1+e^{-MX}}$$\n",
    "\n",
    "La función sigmoide es diferenciable y tiene una derivada no negativa en cada punto. Además, tiene exactamente un punto de inflexión1.\n",
    "\n",
    "Esta función es especialmente útil en varias aplicaciones, incluyendo las redes neuronales artificiales, donde se utiliza como una función de activación. En este contexto, la función sigmoide se utiliza para mapear los valores de entrada de las neuronas a un rango entre 0 y 1, lo que puede interpretarse como una probabilidad.\n",
    "\n",
    "\n",
    "![funcionSigmoide](sigmoideFunction.png)\n",
    "\n",
    "\n",
    "\n",
    "\n",
    "\n"
   ]
  },
  {
   "cell_type": "markdown",
   "metadata": {},
   "source": [
    "# <h3>Establecer pesos y sesgos del modelo</h3>\n",
    "\n",
    "Al igual que la regresión lineal, necesitamos una matriz de ponderación de variable compartida para la regresión logística. Inicializamos tanto <code>M</code> como <code>b</code> como tensores llenos de ceros. Como vamos a aprender <code>M</code> y <code>b</code>, su valor inicial no importa demasiado. Estas variables son los objetos que definen la estructura de nuestro modelo de regresión y podemos guardarlas después de haberlas entrenado para poder reutilizarlas más tarde.\n",
    "\n",
    "Definimos dos variables de TensorFlow como nuestros parámetros. Estas variables contendrán los pesos y sesgos de nuestra regresión logística y se actualizarán continuamente durante el entrenamiento.\n",
    "\n",
    "Observe que <code>M</code> tiene una forma de [4, 3] porque queremos multiplicar los vectores de entrada de 4 dimensiones para producir vectores de evidencia de 3 dimensiones para las clases de diferencia. <code>b</code> tiene la forma de [3], por lo que podemos agregarlo a la salida. Las variables de TensorFlow deben inicializarse con valores, p. con ceros.\n",
    "\n",
    "Este 4 y 3 salen de las columnas obtenidas de `x_Train`, `y_train`"
   ]
  },
  {
   "cell_type": "code",
   "execution_count": 7,
   "metadata": {},
   "outputs": [],
   "source": [
    "m = tf.Variable(tf.zeros([4, 3]))  # Su tamaño sale de las dimensiones entre los datos de x y y de entreno de las columnas\n",
    "\n",
    "b = tf.Variable(tf.zeros([3])) # 3-dimensional tensor , es de 3 columnas pues son 3 las clases a clasificar segun el dataset\n"
   ]
  },
  {
   "cell_type": "code",
   "execution_count": 8,
   "metadata": {},
   "outputs": [],
   "source": [
    "weights = tf.Variable(tf.random.normal([numFeatures,numLabels], #Pesos del modelo\n",
    "                                       mean=0.,\n",
    "                                       stddev=0.01,\n",
    "                                       name=\"weights\"),dtype='float32')\n",
    "\n",
    "\n",
    "bias = tf.Variable(tf.random.normal([1,numLabels], #Sesgo del modelo\n",
    "                                    mean=0.,\n",
    "                                    stddev=0.01,\n",
    "                                    name=\"bias\"))"
   ]
  },
  {
   "cell_type": "markdown",
   "metadata": {},
   "source": [
    "Este fragmento de código está inicializando los pesos y el sesgo para un modelo de regresión logística utilizando TensorFlow. Aquí te explico cada parte:\n",
    "\n",
    "- `weights = tf.Variable(tf.random.normal([numFeatures,numLabels], mean=0., stddev=0.01, name=\"weights\"),dtype='float32')`: Aquí se está creando una variable TensorFlow para los pesos del modelo. Se inicializan con valores aleatorios extraídos de una distribución normal con media 0 y desviación estándar 0.01. La forma de la matriz de pesos es `[numFeatures,numLabels]`, lo que significa que hay un peso para cada combinación de característica y etiqueta.\n",
    "\n",
    "- `bias = tf.Variable(tf.random.normal([1,numLabels], mean=0., stddev=0.01, name=\"bias\"))`: Aquí se está creando una variable TensorFlow para el sesgo del modelo. Al igual que los pesos, el sesgo se inicializa con valores aleatorios extraídos de una distribución normal con media 0 y desviación estándar 0.01. La forma de la matriz de sesgo es `[1,numLabels]`, lo que significa que hay un término de sesgo para cada etiqueta.\n",
    "\n",
    "`tf.random.normal` es una función en TensorFlow que genera una matriz de números aleatorios, cada uno de los cuales sigue una distribución normal (también conocida como distribución gaussiana).\n",
    "\n",
    "Los parámetros de la función son:\n",
    "\n",
    "- `shape`: Esta es la forma de la matriz de salida que quieres generar. Por ejemplo, si quieres una matriz de 2x3, pasarías `[2, 3]` como la forma.\n",
    "\n",
    "- `mean`: Este es el promedio de la distribución normal que quieres usar. Por defecto es 0.\n",
    "\n",
    "- `stddev`: Esta es la desviación estándar de la distribución normal que quieres usar. Por defecto es 1.\n",
    "\n",
    "- `dtype`: Este es el tipo de datos de los números en la matriz de salida. Por defecto es `tf.float32`.\n",
    "\n",
    "- `seed`: Este es el valor inicial para la generación de números aleatorios. Si especificas una semilla, podrás reproducir los mismos números aleatorios cada vez que ejecutes tu código.\n",
    "\n",
    "- `name`: Este es un nombre para la operación. Esto puede ser útil si estás construyendo un gráfico de TensorFlow más grande y quieres dar nombres a las operaciones específicas.\n",
    "\n",
    "Estos pesos y sesgos se actualizarán durante el entrenamiento del modelo para minimizar la función de pérdida y mejorar la precisión del modelo.\n",
    "\n",
    "\n",
    "## $$W=M$$\n"
   ]
  },
  {
   "cell_type": "markdown",
   "metadata": {},
   "source": [
    "<h3>Modelo de regresión logística</h3>\n",
    "\n",
    "Ahora definimos nuestras operaciones para ejecutar correctamente la Regresión Logística. Generalmente se piensa en la regresión logística como una ecuación única:\n",
    "\n",
    "$$\n",
    "ŷ =sigmoid(WX+b)\n",
    "$$\n",
    "\n",
    "Sin embargo, en aras de la claridad, podemos dividirlo en sus tres componentes principales:\n",
    "\n",
    "- un peso multiplicado presenta una operación de multiplicación de matrices,\n",
    "- una suma de las características ponderadas y un término de sesgo,\n",
    "- y finalmente la aplicación de una función sigmoidea."
   ]
  },
  {
   "cell_type": "code",
   "execution_count": 9,
   "metadata": {},
   "outputs": [],
   "source": [
    "def logistic_regression(x):\n",
    "    apply_weights_OP = tf.matmul(x, weights, name=\"apply_weights\")\n",
    "    add_bias_OP = tf.add(apply_weights_OP, bias, name=\"add_bias\") \n",
    "    activation_OP = tf.nn.sigmoid(add_bias_OP, name=\"activation\")\n",
    "    return activation_OP"
   ]
  },
  {
   "cell_type": "markdown",
   "metadata": {},
   "source": [
    "Esta función `logistic_regression` implementa la ecuación de la regresión logística. \n",
    "\n",
    "1. `apply_weights_OP = tf.matmul(x, weights, name=\"apply_weights\")`: Esta línea realiza la multiplicación matricial de los datos de entrada `x` con los pesos del modelo. Esto es equivalente a aplicar los pesos a las características de entrada.\n",
    "\n",
    "2. `add_bias_OP = tf.add(apply_weights_OP, bias, name=\"add_bias\")`: Esta línea suma el sesgo al resultado de la multiplicación matricial de la línea anterior. Esto es equivalente a añadir el término de sesgo a la ecuación de regresión.\n",
    "\n",
    "3. `activation_OP = tf.nn.sigmoid(add_bias_OP, name=\"activation\")`: Esta línea aplica la función sigmoide al resultado de la suma del sesgo. La función sigmoide transforma los valores a un rango entre 0 y 1, lo que permite interpretar la salida como una probabilidad.\n",
    "\n",
    "4. `return activation_OP`: Finalmente, la función devuelve el resultado de la función sigmoide. Este es el valor de probabilidad predicho por el modelo para la clase positiva.\n",
    "\n",
    "En resumen, esta función toma los datos de entrada, aplica los pesos y el sesgo, y luego pasa el resultado a través de la función sigmoide para obtener una probabilidad. Esta es la esencia de cómo funciona la regresión logística.\n"
   ]
  },
  {
   "cell_type": "markdown",
   "metadata": {},
   "source": [
    "<a id=\"ref3\"></a>\n",
    "\n",
    "<h2>Entrenamiento</h2>\n",
    "\n",
    "El algoritmo de aprendizaje es cómo buscamos el mejor vector de peso (${\\\\\\\\bf w}$). Esta búsqueda es un problema de optimización que busca la hipótesis que optimice una medida de error/coste.\n",
    "\n",
    "<b>¿Qué nos dice que nuestro modelo es malo?</b>\n",
    "\n",
    "El Costo o Pérdida del modelo, entonces lo que queremos es minimizarlo.\n",
    "\n",
    "<h3>Función de coste</h3>\n",
    "\n",
    "Antes de definir nuestra función de costos, debemos definir cuánto tiempo vamos a entrenar y cómo debemos definir la tasa de aprendizaje."
   ]
  },
  {
   "cell_type": "code",
   "execution_count": 10,
   "metadata": {},
   "outputs": [],
   "source": [
    "# Number of Epochs in our training\n",
    "numEpochs = 700\n",
    "\n",
    "# Defining our learning rate iterations (decay)\n",
    "learningRate = tf.keras.optimizers.schedules.ExponentialDecay(initial_learning_rate=0.0008,\n",
    "                                          decay_steps=x_train.shape[0],\n",
    "                                          decay_rate= 0.95,\n",
    "                                          staircase=True)"
   ]
  },
  {
   "cell_type": "markdown",
   "metadata": {},
   "source": [
    "Este fragmento de código está configurando dos aspectos importantes del entrenamiento de tu modelo de regresión logística: el número de épocas y la tasa de aprendizaje.\n",
    "\n",
    "1. `numEpochs = 700`: Aquí estás definiendo el número de épocas para el entrenamiento de tu modelo. Una época es una iteración completa a través de todo el conjunto de datos de entrenamiento. En este caso, estás configurando tu modelo para que se entrene durante 700 épocas.\n",
    "\n",
    "2. `learningRate = tf.keras.optimizers.schedules.ExponentialDecay(...)`: Aquí estás definiendo la tasa de aprendizaje de tu modelo utilizando una decaimiento exponencial. La tasa de aprendizaje controla cuánto se actualizan los parámetros del modelo en cada paso del entrenamiento. Con el decaimiento exponencial, la tasa de aprendizaje disminuirá exponencialmente a medida que avanza el entrenamiento.\n",
    "\n",
    "   - `initial_learning_rate=0.0008`: Esta es la tasa de aprendizaje inicial.\n",
    "   - `decay_steps=trainX.shape[0]`: Este es el número de pasos de entrenamiento que debe tomar antes de que la tasa de aprendizaje comience a decaer.\n",
    "   - `decay_rate=0.95`: Este es el factor de decaimiento. Una tasa de decaimiento de 0.95 disminuirá la tasa de aprendizaje en un 5% en cada `decay_steps`.\n",
    "   - `staircase=True`: Si es `True`, la tasa de aprendizaje decae de manera discreta en lugar de continua, como si bajara por una escalera.\n"
   ]
  },
  {
   "cell_type": "markdown",
   "metadata": {},
   "source": [
    "<b>¿Cuál es la función de costos en nuestro modelo?</b>\n",
    "La función de costo que vamos a utilizar es la función de pérdida de error medio cuadrático.\n",
    "\n",
    "<b>¿Cómo minimizar la función de costes?</b>\n",
    "\n",
    "No podemos usar <b>regresión lineal de mínimos cuadrados</b> \n",
    "aquí, por lo que usaremos descenso de gradiente</a> en su lugar. . Específicamente, utilizaremos el descenso de gradiente por lotes, que calcula el gradiente a partir de todos los puntos de datos del conjunto de datos."
   ]
  },
  {
   "cell_type": "code",
   "execution_count": 11,
   "metadata": {},
   "outputs": [],
   "source": [
    "#Creamos la funcion de perdida usando la error medio cuadratico\n",
    "loss_object = tf.keras.losses.MeanSquaredLogarithmicError()\n",
    "\n",
    "optimizer = tf.keras.optimizers.SGD(learningRate) #Optimizamos la taza de aprendizaje con la funcion de keras\n",
    "\n"
   ]
  },
  {
   "cell_type": "code",
   "execution_count": 12,
   "metadata": {},
   "outputs": [],
   "source": [
    "# Accuracy metric.\n",
    "def accuracy(y_pred, y_true):\n",
    "# Predicted class is the index of the highest score in prediction vector (i.e. argmax).\n",
    "\n",
    "    correct_prediction = tf.equal(tf.argmax(y_pred, 1), tf.argmax(y_true, 1))\n",
    "\n",
    "    return tf.reduce_mean(tf.cast(correct_prediction, tf.float32))"
   ]
  },
  {
   "cell_type": "markdown",
   "metadata": {},
   "source": [
    "Esta función `accuracy` calcula la precisión de las predicciones de un modelo de clasificación. Aquí te explico cada parte:\n",
    "\n",
    "1. `correct_prediction = tf.equal(tf.argmax(y_pred, 1), tf.argmax(y_true, 1))`: Esta línea compara las clases predichas con las clases verdaderas. `tf.argmax(y_pred, 1)` devuelve la clase predicha, que es el índice de la mayor probabilidad en cada vector de predicción. `tf.argmax(y_true, 1)` devuelve la clase verdadera, que es el índice del valor 1 en cada vector de etiqueta verdadera (asumiendo que las etiquetas verdaderas están en formato one-hot). `tf.equal` devuelve `True` para las predicciones correctas y `False` para las incorrectas.\n",
    "\n",
    "2. `return tf.reduce_mean(tf.cast(correct_prediction, tf.float32))`: Esta línea calcula la precisión del modelo. Primero, `tf.cast(correct_prediction, tf.float32)` convierte la matriz de booleanos `correct_prediction` en una matriz de flotantes, con `True` convertido en `1.0` y `False` convertido en `0.0`. Luego, `tf.reduce_mean` calcula la media de esta matriz, que es la proporción de predicciones correctas, es decir, la precisión del modelo.\n",
    "\n"
   ]
  },
  {
   "cell_type": "code",
   "execution_count": 13,
   "metadata": {},
   "outputs": [],
   "source": [
    "# Optimization process. , Hallamos los gradientes para poder usarlos en el modelo\n",
    "\n",
    "def run_optimization(x, y):\n",
    "    with tf.GradientTape() as g:\n",
    "        pred = logistic_regression(x)\n",
    "        loss = loss_object(pred, y)\n",
    "    gradients = g.gradient(loss, [weights, bias])\n",
    "    optimizer.apply_gradients(zip(gradients, [weights, bias]))"
   ]
  },
  {
   "cell_type": "markdown",
   "metadata": {},
   "source": [
    "La función `run_optimization` es una parte esencial del entrenamiento de un modelo de regresión logística en TensorFlow. Aquí está lo que hace cada línea de código:\n",
    "\n",
    "1. `with tf.GradientTape() as g:`: TensorFlow utiliza un objeto `GradientTape` para registrar las operaciones que se realizan dentro de su contexto. Esto permite calcular automáticamente los gradientes de las variables con respecto a una pérdida.\n",
    "\n",
    "2. `pred = logistic_regression(x)`: Esta línea predice las salidas (o etiquetas) para las entradas dadas `x` utilizando el modelo de regresión logística.\n",
    "\n",
    "3. `loss = loss_object(pred, y)`: Aquí se calcula la pérdida entre las etiquetas predichas `pred` y las etiquetas reales `y` utilizando un objeto de pérdida (por ejemplo, la entropía cruzada para la clasificación).\n",
    "\n",
    "4. `gradients = g.gradient(loss, [weights, bias])`: Esta línea calcula los gradientes de la pérdida con respecto a las variables del modelo (en este caso, los pesos y el sesgo). Estos gradientes se utilizarán para actualizar las variables del modelo.\n",
    "\n",
    "5. `optimizer.apply_gradients(zip(gradients, [weights, bias]))`: Finalmente, esta línea aplica los gradientes calculados a las variables del modelo utilizando un optimizador. Esto actualiza los pesos y el sesgo en la dirección que minimiza la pérdida.\n",
    "\n"
   ]
  },
  {
   "cell_type": "markdown",
   "metadata": {},
   "source": [
    "# Loop de entreno"
   ]
  },
  {
   "cell_type": "code",
   "execution_count": 14,
   "metadata": {},
   "outputs": [
    {
     "name": "stdout",
     "output_type": "stream",
     "text": [
      "WARNING:tensorflow:From C:\\Users\\Cristian\\AppData\\Roaming\\Python\\Python311\\site-packages\\keras\\src\\utils\\losses_utils.py:325: The name tf.get_default_graph is deprecated. Please use tf.compat.v1.get_default_graph instead.\n",
      "\n",
      "step 0, training accuracy 0.397849, loss 0.134017, change in loss 0.134017\n",
      "step 10, training accuracy 0.397849, loss 0.133457, change in loss 0.00056009\n",
      "step 20, training accuracy 0.397849, loss 0.132906, change in loss 0.000551552\n",
      "step 30, training accuracy 0.397849, loss 0.132363, change in loss 0.000542998\n",
      "step 40, training accuracy 0.397849, loss 0.131828, change in loss 0.00053452\n"
     ]
    },
    {
     "name": "stdout",
     "output_type": "stream",
     "text": [
      "step 50, training accuracy 0.397849, loss 0.131302, change in loss 0.000526026\n",
      "step 60, training accuracy 0.397849, loss 0.130784, change in loss 0.000517607\n",
      "step 70, training accuracy 0.397849, loss 0.130275, change in loss 0.000509217\n",
      "step 80, training accuracy 0.397849, loss 0.129774, change in loss 0.000500873\n",
      "step 90, training accuracy 0.397849, loss 0.129282, change in loss 0.000492617\n",
      "step 100, training accuracy 0.397849, loss 0.128817, change in loss 0.00046514\n",
      "step 110, training accuracy 0.397849, loss 0.128364, change in loss 0.000452921\n",
      "step 120, training accuracy 0.397849, loss 0.127918, change in loss 0.000445589\n",
      "step 130, training accuracy 0.397849, loss 0.12748, change in loss 0.000438362\n",
      "step 140, training accuracy 0.397849, loss 0.127048, change in loss 0.00043121\n",
      "step 150, training accuracy 0.397849, loss 0.126624, change in loss 0.000424087\n",
      "step 160, training accuracy 0.397849, loss 0.126207, change in loss 0.000417024\n",
      "step 170, training accuracy 0.397849, loss 0.125797, change in loss 0.000410095\n",
      "step 180, training accuracy 0.397849, loss 0.125394, change in loss 0.000403196\n",
      "step 190, training accuracy 0.397849, loss 0.125007, change in loss 0.000386536\n",
      "step 200, training accuracy 0.397849, loss 0.124637, change in loss 0.000370488\n",
      "step 210, training accuracy 0.397849, loss 0.124273, change in loss 0.000364453\n",
      "step 220, training accuracy 0.397849, loss 0.123914, change in loss 0.000358537\n",
      "step 230, training accuracy 0.397849, loss 0.123561, change in loss 0.000352673\n",
      "step 240, training accuracy 0.397849, loss 0.123214, change in loss 0.000346862\n",
      "step 250, training accuracy 0.397849, loss 0.122873, change in loss 0.000341155\n",
      "step 260, training accuracy 0.397849, loss 0.122538, change in loss 0.0003355\n",
      "step 270, training accuracy 0.397849, loss 0.122208, change in loss 0.000329934\n",
      "step 280, training accuracy 0.397849, loss 0.121887, change in loss 0.000321209\n",
      "step 290, training accuracy 0.397849, loss 0.121583, change in loss 0.000303246\n",
      "step 300, training accuracy 0.397849, loss 0.121285, change in loss 0.000298411\n",
      "step 310, training accuracy 0.397849, loss 0.120991, change in loss 0.000293657\n",
      "step 320, training accuracy 0.397849, loss 0.120702, change in loss 0.000288963\n",
      "step 330, training accuracy 0.397849, loss 0.120418, change in loss 0.000284329\n",
      "step 340, training accuracy 0.397849, loss 0.120138, change in loss 0.000279777\n",
      "step 350, training accuracy 0.397849, loss 0.119863, change in loss 0.000275262\n",
      "step 360, training accuracy 0.397849, loss 0.119592, change in loss 0.000270844\n",
      "step 370, training accuracy 0.397849, loss 0.119326, change in loss 0.000266485\n",
      "step 380, training accuracy 0.397849, loss 0.119075, change in loss 0.000250481\n",
      "step 390, training accuracy 0.397849, loss 0.11883, change in loss 0.000245318\n",
      "step 400, training accuracy 0.397849, loss 0.118588, change in loss 0.000241555\n",
      "step 410, training accuracy 0.397849, loss 0.118351, change in loss 0.000237837\n",
      "step 420, training accuracy 0.397849, loss 0.118116, change in loss 0.000234194\n",
      "step 430, training accuracy 0.397849, loss 0.117886, change in loss 0.000230581\n",
      "step 440, training accuracy 0.397849, loss 0.117659, change in loss 0.000227042\n",
      "step 450, training accuracy 0.397849, loss 0.117435, change in loss 0.000223547\n",
      "step 460, training accuracy 0.397849, loss 0.117215, change in loss 0.00022009\n",
      "step 470, training accuracy 0.397849, loss 0.117005, change in loss 0.000210263\n",
      "step 480, training accuracy 0.397849, loss 0.116802, change in loss 0.000202879\n",
      "step 490, training accuracy 0.397849, loss 0.116602, change in loss 0.000199907\n",
      "step 500, training accuracy 0.397849, loss 0.116405, change in loss 0.000196986\n",
      "step 510, training accuracy 0.397849, loss 0.116211, change in loss 0.00019414\n",
      "step 520, training accuracy 0.397849, loss 0.11602, change in loss 0.000191271\n",
      "step 530, training accuracy 0.397849, loss 0.115831, change in loss 0.000188485\n",
      "step 540, training accuracy 0.397849, loss 0.115645, change in loss 0.00018575\n",
      "step 550, training accuracy 0.397849, loss 0.115462, change in loss 0.000183038\n",
      "step 560, training accuracy 0.397849, loss 0.115285, change in loss 0.000177674\n",
      "step 570, training accuracy 0.397849, loss 0.115116, change in loss 0.000168987\n",
      "step 580, training accuracy 0.397849, loss 0.114949, change in loss 0.000166625\n",
      "step 590, training accuracy 0.397849, loss 0.114785, change in loss 0.00016433\n",
      "step 600, training accuracy 0.397849, loss 0.114623, change in loss 0.00016208\n",
      "step 610, training accuracy 0.397849, loss 0.114463, change in loss 0.00015983\n",
      "step 620, training accuracy 0.397849, loss 0.114305, change in loss 0.000157654\n",
      "step 630, training accuracy 0.397849, loss 0.11415, change in loss 0.000155479\n",
      "step 640, training accuracy 0.397849, loss 0.113996, change in loss 0.00015337\n",
      "step 650, training accuracy 0.397849, loss 0.113845, change in loss 0.000151254\n",
      "step 660, training accuracy 0.397849, loss 0.113703, change in loss 0.000141792\n",
      "step 670, training accuracy 0.397849, loss 0.113563, change in loss 0.000139944\n",
      "step 680, training accuracy 0.397849, loss 0.113425, change in loss 0.000138134\n",
      "step 690, training accuracy 0.397849, loss 0.113289, change in loss 0.000136361\n",
      "final accuracy on test set: 0.39784947\n"
     ]
    }
   ],
   "source": [
    "# Initialize reporting variables\n",
    "display_step = 10\n",
    "epoch_values = []\n",
    "accuracy_values = []\n",
    "loss_values = []\n",
    "loss = 0\n",
    "diff = 1\n",
    "# Training epochs\n",
    "for i in range(numEpochs):\n",
    "    if i > 1 and diff < .0001:\n",
    "        print(\"change in loss %g; convergence.\"%diff)\n",
    "        break\n",
    "    else:\n",
    "        # Run training step\n",
    "        run_optimization(x_train, y_train)\n",
    "        \n",
    "        # Report occasional stats\n",
    "        if i % display_step == 0:\n",
    "            # Add epoch to epoch_values\n",
    "            epoch_values.append(i)\n",
    "            \n",
    "            pred = logistic_regression(x_train)\n",
    "\n",
    "            newLoss = loss_object(pred, y_train)\n",
    "            # Add loss to live graphing variable\n",
    "            loss_values.append(newLoss)\n",
    "            \n",
    "            # Generate accuracy stats on test data\n",
    "            acc = accuracy(pred, y_train)\n",
    "            accuracy_values.append(acc)\n",
    "            \n",
    "    \n",
    "            # Re-assign values for variables\n",
    "            diff = abs(newLoss - loss)\n",
    "            loss = newLoss\n",
    "\n",
    "            #generate print statements\n",
    "            print(\"step %d, training accuracy %g, loss %g, change in loss %g\"%(i, acc, newLoss, diff))\n",
    "\n",
    "        \n",
    "\n",
    "          \n",
    "\n",
    "# How well do we perform on held-out test data?\n",
    "print(\"final accuracy on test set: %s\" %acc.numpy())\n",
    "\n",
    "\n"
   ]
  },
  {
   "cell_type": "markdown",
   "metadata": {},
   "source": [
    "\n",
    "1. **Inicialización de variables**: Al principio, se inicializan varias variables que se utilizarán para rastrear el progreso del entrenamiento. Esto incluye listas para almacenar los valores de las épocas, la precisión y la pérdida, así como variables para la pérdida y la diferencia en la pérdida entre las épocas.\n",
    "\n",
    "2. **Bucle de entrenamiento**: El bucle `for` recorre un número determinado de épocas de entrenamiento. En cada época, se realiza un paso de optimización (es decir, se actualizan los pesos del modelo) utilizando la función `run_optimization`.\n",
    "\n",
    "3. **Convergencia temprana**: Si la diferencia en la pérdida entre las épocas es menor que un cierto umbral (en este caso, 0.0001), el algoritmo concluye que el modelo ha convergido y detiene el entrenamiento.\n",
    "\n",
    "4. **Registro de estadísticas**: En cada época, si la época es un múltiplo de `display_step`, el algoritmo calcula la pérdida y la precisión del modelo en los datos de prueba, y registra estos valores. También calcula la diferencia en la pérdida desde la última época.\n",
    "\n",
    "5. **Impresión de resultados**: Finalmente, una vez que se ha completado el entrenamiento, el algoritmo imprime la precisión final del modelo en el conjunto de prueba.\n",
    "\n",
    "En resumen, este algoritmo está entrenando un modelo de regresión logística, monitoreando su rendimiento a lo largo del tiempo, y deteniendo el entrenamiento una vez que el modelo ha convergido.\n",
    "\n"
   ]
  },
  {
   "cell_type": "markdown",
   "metadata": {},
   "source": [
    "\n",
    "1. `for i in range(numEpochs):` Este es el inicio del bucle `for`, que se ejecutará para un número determinado de épocas (iteraciones completas a través del conjunto de datos de entrenamiento). El número de épocas es `numEpochs`.\n",
    "\n",
    "2. `if i > 1 and diff < .0001:` Aquí se comprueba si la diferencia en la pérdida entre las épocas consecutivas es menor que 0.0001, y si se han completado al menos dos épocas. Si ambas condiciones se cumplen, significa que el modelo ha convergido y se detiene el entrenamiento.\n",
    "\n",
    "3. `run_optimization(trainX, trainY)`: Aquí se realiza un paso de optimización, que actualiza los pesos del modelo basándose en los gradientes de la función de pérdida. La función `run_optimization` se aplica al conjunto de entrenamiento.\n",
    "\n",
    "4. `if i % display_step == 0:` Aquí se comprueba si la época actual es un múltiplo de `display_step`. Si es así, se calculan y registran las estadísticas del modelo.\n",
    "\n",
    "5. `epoch_values.append(i)`: Aquí se añade el número de la época actual a la lista `epoch_values`.\n",
    "\n",
    "6. `pred = logistic_regression(testX)`: Aquí se calculan las predicciones del modelo para el conjunto de prueba.\n",
    "\n",
    "7. `newLoss = loss_object(pred, testY)`: Aquí se calcula la pérdida del modelo en el conjunto de prueba.\n",
    "\n",
    "8. `loss_values.append(newLoss)`: Aquí se añade la pérdida calculada a la lista `loss_values`.\n",
    "\n",
    "9. `acc = accuracy(pred, testY)`: Aquí se calcula la precisión del modelo en el conjunto de prueba.\n",
    "\n",
    "10. `accuracy_values.append(acc)`: Aquí se añade la precisión calculada a la lista `accuracy_values`.\n",
    "\n",
    "11. `diff = abs(newLoss - loss)`: Aquí se calcula la diferencia absoluta en la pérdida desde la última época.\n",
    "\n",
    "12. `loss = newLoss`: Aquí se actualiza el valor de la pérdida para la próxima iteración.\n",
    "\n",
    "Espero que esto te ayude a entender mejor lo que está sucediendo en el bucle `for`. Si tienes más preguntas, no dudes en hacerlas."
   ]
  },
  {
   "cell_type": "code",
   "execution_count": 15,
   "metadata": {},
   "outputs": [
    {
     "data": {
      "image/png": "[encoded data removed]",
      "text/plain": [
       "<Figure size 640x480 with 1 Axes>"
      ]
     },
     "metadata": {},
     "output_type": "display_data"
    }
   ],
   "source": [
    "import numpy as np\n",
    "import matplotlib.pyplot as plt\n",
    "plt.xlabel(\"Epoch\")\n",
    "plt.ylabel(\"Loss\")\n",
    "plt.plot(loss_values)\n",
    "plt.show()"
   ]
  },
  {
   "cell_type": "markdown",
   "metadata": {},
   "source": [
    "\n",
    "\n",
    "1. **Disminución de la pérdida**: La pérdida de tu modelo parece estar disminuyendo a medida que aumenta el número de épocas. Esto es una buena señal y sugiere que tu modelo está aprendiendo de los datos de entrenamiento y mejorando su rendimiento a lo largo del tiempo.\n",
    "\n",
    "2. **Convergencia del modelo**: La curva de pérdida parece estar acercándose a un valor mínimo y estabilizándose, lo que sugiere que tu modelo puede estar convergiendo. Esto significa que las actualizaciones adicionales a los pesos del modelo durante el entrenamiento están resultando en mejoras incrementales más pequeñas en la pérdida del modelo.\n",
    "\n"
   ]
  }
 ],
 "metadata": {
  "kernelspec": {
   "display_name": "Python 3",
   "language": "python",
   "name": "python3"
  },
  "language_info": {
   "codemirror_mode": {
    "name": "ipython",
    "version": 3
   },
   "file_extension": ".py",
   "mimetype": "text/x-python",
   "name": "python",
   "nbconvert_exporter": "python",
   "pygments_lexer": "ipython3",
   "version": "3.11.4"
  }
 },
 "nbformat": 4,
 "nbformat_minor": 2
}
