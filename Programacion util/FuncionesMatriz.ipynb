{
 "cells": [
  {
   "cell_type": "markdown",
   "metadata": {},
   "source": [
    "-Crear una matriz vacia\n",
    "\n",
    "-Mostrar una una matriz\n",
    "\n",
    "-Insertar un elemento en una matriz"
   ]
  },
  {
   "cell_type": "code",
   "execution_count": 46,
   "metadata": {},
   "outputs": [],
   "source": [
    "def create_matriz(rows:int ,columns:int)-> list:\n",
    "    matriz=[[\"\" for i in range(rows)] for j in range(columns)] \n",
    "    return matriz\n",
    "\n"
   ]
  },
  {
   "cell_type": "code",
   "execution_count": 47,
   "metadata": {},
   "outputs": [],
   "source": [
    "def show_matriz(matriz:list)-> list:\n",
    "    for i in matriz:\n",
    "        print(i)\n",
    "    return \"\"\n"
   ]
  },
  {
   "cell_type": "code",
   "execution_count": 48,
   "metadata": {},
   "outputs": [],
   "source": [
    "def insert_matriz(matriz:list,rows:int,column:int,element:int)-> None:\n",
    "\n",
    "\n",
    "    matriz[rows].insert(column,element)\n",
    "    \n",
    "    return matriz\n",
    "    \n"
   ]
  },
  {
   "cell_type": "code",
   "execution_count": 49,
   "metadata": {},
   "outputs": [
    {
     "name": "stdout",
     "output_type": "stream",
     "text": [
      "[1, '', '', '']\n",
      "['', 1, '', '']\n",
      "['', '', 1, '']\n"
     ]
    },
    {
     "data": {
      "text/plain": [
       "''"
      ]
     },
     "execution_count": 49,
     "metadata": {},
     "output_type": "execute_result"
    }
   ],
   "source": [
    "my_matriz=create_matriz(3,3)\n",
    "\n",
    "my_matriz=insert_matriz(my_matriz,0,0,1)\n",
    "\n",
    "my_matriz=insert_matriz(my_matriz,1,1,1)\n",
    "\n",
    "my_matriz=insert_matriz(my_matriz,2,2,1)\n",
    "\n",
    "\n",
    "\n",
    "\n",
    "\n",
    "\n",
    "\n",
    "show_matriz(my_matriz)\n",
    "\n",
    "\n"
   ]
  }
 ],
 "metadata": {
  "kernelspec": {
   "display_name": "Python 3",
   "language": "python",
   "name": "python3"
  },
  "language_info": {
   "codemirror_mode": {
    "name": "ipython",
    "version": 3
   },
   "file_extension": ".py",
   "mimetype": "text/x-python",
   "name": "python",
   "nbconvert_exporter": "python",
   "pygments_lexer": "ipython3",
   "version": "3.11.4"
  }
 },
 "nbformat": 4,
 "nbformat_minor": 2
}
